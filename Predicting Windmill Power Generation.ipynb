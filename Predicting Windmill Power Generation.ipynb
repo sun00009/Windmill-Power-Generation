{
 "cells": [
  {
   "cell_type": "code",
   "execution_count": 1,
   "id": "absolute-subscription",
   "metadata": {},
   "outputs": [],
   "source": [
    "%matplotlib inline\n",
    "import pandas as pd\n",
    "import numpy as np\n",
    "import matplotlib.pyplot as plt\n",
    "import seaborn as sns\n",
    "\n",
    "import warnings\n",
    "warnings.filterwarnings('ignore')"
   ]
  },
  {
   "cell_type": "code",
   "execution_count": 2,
   "id": "flying-duration",
   "metadata": {},
   "outputs": [],
   "source": [
    "df=pd.read_csv('train.csv')"
   ]
  },
  {
   "cell_type": "code",
   "execution_count": 3,
   "id": "reserved-london",
   "metadata": {},
   "outputs": [
    {
     "data": {
      "text/html": [
       "<div>\n",
       "<style scoped>\n",
       "    .dataframe tbody tr th:only-of-type {\n",
       "        vertical-align: middle;\n",
       "    }\n",
       "\n",
       "    .dataframe tbody tr th {\n",
       "        vertical-align: top;\n",
       "    }\n",
       "\n",
       "    .dataframe thead th {\n",
       "        text-align: right;\n",
       "    }\n",
       "</style>\n",
       "<table border=\"1\" class=\"dataframe\">\n",
       "  <thead>\n",
       "    <tr style=\"text-align: right;\">\n",
       "      <th></th>\n",
       "      <th>tracking_id</th>\n",
       "      <th>datetime</th>\n",
       "      <th>wind_speed(m/s)</th>\n",
       "      <th>atmospheric_temperature(°C)</th>\n",
       "      <th>shaft_temperature(°C)</th>\n",
       "      <th>blades_angle(°)</th>\n",
       "      <th>gearbox_temperature(°C)</th>\n",
       "      <th>engine_temperature(°C)</th>\n",
       "      <th>motor_torque(N-m)</th>\n",
       "      <th>generator_temperature(°C)</th>\n",
       "      <th>...</th>\n",
       "      <th>windmill_body_temperature(°C)</th>\n",
       "      <th>wind_direction(°)</th>\n",
       "      <th>resistance(ohm)</th>\n",
       "      <th>rotor_torque(N-m)</th>\n",
       "      <th>turbine_status</th>\n",
       "      <th>cloud_level</th>\n",
       "      <th>blade_length(m)</th>\n",
       "      <th>blade_breadth(m)</th>\n",
       "      <th>windmill_height(m)</th>\n",
       "      <th>windmill_generated_power(kW/h)</th>\n",
       "    </tr>\n",
       "  </thead>\n",
       "  <tbody>\n",
       "    <tr>\n",
       "      <th>0</th>\n",
       "      <td>WM_33725</td>\n",
       "      <td>2019-08-04 14:33:20</td>\n",
       "      <td>94.820023</td>\n",
       "      <td>-99.000000</td>\n",
       "      <td>41.723019</td>\n",
       "      <td>-0.903423</td>\n",
       "      <td>82.410573</td>\n",
       "      <td>42.523015</td>\n",
       "      <td>2563.124522</td>\n",
       "      <td>76.665560</td>\n",
       "      <td>...</td>\n",
       "      <td>NaN</td>\n",
       "      <td>239.836388</td>\n",
       "      <td>2730.310605</td>\n",
       "      <td>42.084666</td>\n",
       "      <td>BA</td>\n",
       "      <td>Medium</td>\n",
       "      <td>2.217542</td>\n",
       "      <td>0.314065</td>\n",
       "      <td>24.281689</td>\n",
       "      <td>6.766521</td>\n",
       "    </tr>\n",
       "    <tr>\n",
       "      <th>1</th>\n",
       "      <td>WM_698</td>\n",
       "      <td>2018-11-05 10:13:20</td>\n",
       "      <td>241.832734</td>\n",
       "      <td>27.764785</td>\n",
       "      <td>-99.000000</td>\n",
       "      <td>-99.000000</td>\n",
       "      <td>44.104919</td>\n",
       "      <td>46.258870</td>\n",
       "      <td>2372.384119</td>\n",
       "      <td>78.129803</td>\n",
       "      <td>...</td>\n",
       "      <td>NaN</td>\n",
       "      <td>337.944723</td>\n",
       "      <td>1780.207200</td>\n",
       "      <td>107.888643</td>\n",
       "      <td>A2</td>\n",
       "      <td>Medium</td>\n",
       "      <td>4.210346</td>\n",
       "      <td>0.448494</td>\n",
       "      <td>27.262139</td>\n",
       "      <td>5.966275</td>\n",
       "    </tr>\n",
       "    <tr>\n",
       "      <th>2</th>\n",
       "      <td>WM_39146</td>\n",
       "      <td>2019-09-14 14:03:20</td>\n",
       "      <td>95.484724</td>\n",
       "      <td>NaN</td>\n",
       "      <td>41.855473</td>\n",
       "      <td>12.652763</td>\n",
       "      <td>42.322098</td>\n",
       "      <td>42.878552</td>\n",
       "      <td>1657.169646</td>\n",
       "      <td>67.654469</td>\n",
       "      <td>...</td>\n",
       "      <td>45.033197</td>\n",
       "      <td>227.850294</td>\n",
       "      <td>1666.049900</td>\n",
       "      <td>-42.931459</td>\n",
       "      <td>ABC</td>\n",
       "      <td>Medium</td>\n",
       "      <td>2.719475</td>\n",
       "      <td>0.302321</td>\n",
       "      <td>27.366127</td>\n",
       "      <td>2.874342</td>\n",
       "    </tr>\n",
       "    <tr>\n",
       "      <th>3</th>\n",
       "      <td>WM_6757</td>\n",
       "      <td>2018-12-25 15:33:20</td>\n",
       "      <td>238.819424</td>\n",
       "      <td>-99.000000</td>\n",
       "      <td>45.443914</td>\n",
       "      <td>15.115323</td>\n",
       "      <td>44.759643</td>\n",
       "      <td>47.282101</td>\n",
       "      <td>2888.134079</td>\n",
       "      <td>95.389974</td>\n",
       "      <td>...</td>\n",
       "      <td>44.827154</td>\n",
       "      <td>492.081520</td>\n",
       "      <td>1964.502895</td>\n",
       "      <td>42.744596</td>\n",
       "      <td>ABC</td>\n",
       "      <td>NaN</td>\n",
       "      <td>4.857385</td>\n",
       "      <td>0.367140</td>\n",
       "      <td>24.287767</td>\n",
       "      <td>14.851089</td>\n",
       "    </tr>\n",
       "    <tr>\n",
       "      <th>4</th>\n",
       "      <td>WM_21521</td>\n",
       "      <td>2019-05-04 03:13:20</td>\n",
       "      <td>10.722890</td>\n",
       "      <td>NaN</td>\n",
       "      <td>41.981183</td>\n",
       "      <td>1.715696</td>\n",
       "      <td>-17.616459</td>\n",
       "      <td>43.469852</td>\n",
       "      <td>781.695419</td>\n",
       "      <td>37.423065</td>\n",
       "      <td>...</td>\n",
       "      <td>-99.000000</td>\n",
       "      <td>259.274601</td>\n",
       "      <td>1177.516152</td>\n",
       "      <td>13.387289</td>\n",
       "      <td>AAA</td>\n",
       "      <td>Medium</td>\n",
       "      <td>NaN</td>\n",
       "      <td>0.453374</td>\n",
       "      <td>27.971650</td>\n",
       "      <td>3.519074</td>\n",
       "    </tr>\n",
       "    <tr>\n",
       "      <th>...</th>\n",
       "      <td>...</td>\n",
       "      <td>...</td>\n",
       "      <td>...</td>\n",
       "      <td>...</td>\n",
       "      <td>...</td>\n",
       "      <td>...</td>\n",
       "      <td>...</td>\n",
       "      <td>...</td>\n",
       "      <td>...</td>\n",
       "      <td>...</td>\n",
       "      <td>...</td>\n",
       "      <td>...</td>\n",
       "      <td>...</td>\n",
       "      <td>...</td>\n",
       "      <td>...</td>\n",
       "      <td>...</td>\n",
       "      <td>...</td>\n",
       "      <td>...</td>\n",
       "      <td>...</td>\n",
       "      <td>...</td>\n",
       "      <td>...</td>\n",
       "    </tr>\n",
       "    <tr>\n",
       "      <th>28195</th>\n",
       "      <td>WM_7814</td>\n",
       "      <td>2019-01-02 02:43:20</td>\n",
       "      <td>94.765699</td>\n",
       "      <td>23.576793</td>\n",
       "      <td>45.399352</td>\n",
       "      <td>5.377222</td>\n",
       "      <td>-1.085171</td>\n",
       "      <td>48.528248</td>\n",
       "      <td>2791.600990</td>\n",
       "      <td>90.898875</td>\n",
       "      <td>...</td>\n",
       "      <td>44.242269</td>\n",
       "      <td>536.153413</td>\n",
       "      <td>1980.861921</td>\n",
       "      <td>45.909054</td>\n",
       "      <td>BB</td>\n",
       "      <td>Medium</td>\n",
       "      <td>2.774335</td>\n",
       "      <td>0.418299</td>\n",
       "      <td>24.590801</td>\n",
       "      <td>9.587934</td>\n",
       "    </tr>\n",
       "    <tr>\n",
       "      <th>28196</th>\n",
       "      <td>WM_32512</td>\n",
       "      <td>2019-07-26 12:53:20</td>\n",
       "      <td>94.196738</td>\n",
       "      <td>24.034329</td>\n",
       "      <td>42.068979</td>\n",
       "      <td>-99.000000</td>\n",
       "      <td>44.285153</td>\n",
       "      <td>43.487939</td>\n",
       "      <td>2207.882276</td>\n",
       "      <td>72.244645</td>\n",
       "      <td>...</td>\n",
       "      <td>43.616412</td>\n",
       "      <td>354.239825</td>\n",
       "      <td>1712.840457</td>\n",
       "      <td>36.974913</td>\n",
       "      <td>BB</td>\n",
       "      <td>Low</td>\n",
       "      <td>-3.250989</td>\n",
       "      <td>0.461531</td>\n",
       "      <td>26.051604</td>\n",
       "      <td>4.522195</td>\n",
       "    </tr>\n",
       "    <tr>\n",
       "      <th>28197</th>\n",
       "      <td>WM_5193</td>\n",
       "      <td>2018-12-12 02:13:20</td>\n",
       "      <td>94.160463</td>\n",
       "      <td>28.674296</td>\n",
       "      <td>45.004213</td>\n",
       "      <td>9.550358</td>\n",
       "      <td>49.377706</td>\n",
       "      <td>44.042632</td>\n",
       "      <td>2801.657374</td>\n",
       "      <td>94.814637</td>\n",
       "      <td>...</td>\n",
       "      <td>43.576510</td>\n",
       "      <td>534.209913</td>\n",
       "      <td>1951.728713</td>\n",
       "      <td>88.319152</td>\n",
       "      <td>D</td>\n",
       "      <td>Medium</td>\n",
       "      <td>NaN</td>\n",
       "      <td>0.380264</td>\n",
       "      <td>28.533850</td>\n",
       "      <td>11.096599</td>\n",
       "    </tr>\n",
       "    <tr>\n",
       "      <th>28198</th>\n",
       "      <td>WM_12173</td>\n",
       "      <td>2019-02-03 19:13:20</td>\n",
       "      <td>95.430377</td>\n",
       "      <td>26.560254</td>\n",
       "      <td>48.032624</td>\n",
       "      <td>3.051389</td>\n",
       "      <td>81.443896</td>\n",
       "      <td>44.821365</td>\n",
       "      <td>2760.647280</td>\n",
       "      <td>90.144418</td>\n",
       "      <td>...</td>\n",
       "      <td>44.973415</td>\n",
       "      <td>568.504898</td>\n",
       "      <td>1968.917692</td>\n",
       "      <td>47.562627</td>\n",
       "      <td>BCB</td>\n",
       "      <td>Low</td>\n",
       "      <td>3.001855</td>\n",
       "      <td>0.346447</td>\n",
       "      <td>47.747269</td>\n",
       "      <td>9.373239</td>\n",
       "    </tr>\n",
       "    <tr>\n",
       "      <th>28199</th>\n",
       "      <td>WM_33004</td>\n",
       "      <td>2019-07-30 11:43:20</td>\n",
       "      <td>43.558352</td>\n",
       "      <td>18.721231</td>\n",
       "      <td>9.220208</td>\n",
       "      <td>2.593639</td>\n",
       "      <td>40.262279</td>\n",
       "      <td>40.901975</td>\n",
       "      <td>2015.977410</td>\n",
       "      <td>69.043447</td>\n",
       "      <td>...</td>\n",
       "      <td>44.100782</td>\n",
       "      <td>320.498070</td>\n",
       "      <td>1666.526546</td>\n",
       "      <td>-8.932053</td>\n",
       "      <td>BBB</td>\n",
       "      <td>Low</td>\n",
       "      <td>NaN</td>\n",
       "      <td>0.388855</td>\n",
       "      <td>24.125408</td>\n",
       "      <td>2.860342</td>\n",
       "    </tr>\n",
       "  </tbody>\n",
       "</table>\n",
       "<p>28200 rows × 22 columns</p>\n",
       "</div>"
      ],
      "text/plain": [
       "      tracking_id             datetime  wind_speed(m/s)  \\\n",
       "0        WM_33725  2019-08-04 14:33:20        94.820023   \n",
       "1          WM_698  2018-11-05 10:13:20       241.832734   \n",
       "2        WM_39146  2019-09-14 14:03:20        95.484724   \n",
       "3         WM_6757  2018-12-25 15:33:20       238.819424   \n",
       "4        WM_21521  2019-05-04 03:13:20        10.722890   \n",
       "...           ...                  ...              ...   \n",
       "28195     WM_7814  2019-01-02 02:43:20        94.765699   \n",
       "28196    WM_32512  2019-07-26 12:53:20        94.196738   \n",
       "28197     WM_5193  2018-12-12 02:13:20        94.160463   \n",
       "28198    WM_12173  2019-02-03 19:13:20        95.430377   \n",
       "28199    WM_33004  2019-07-30 11:43:20        43.558352   \n",
       "\n",
       "       atmospheric_temperature(°C)  shaft_temperature(°C)  blades_angle(°)  \\\n",
       "0                       -99.000000              41.723019        -0.903423   \n",
       "1                        27.764785             -99.000000       -99.000000   \n",
       "2                              NaN              41.855473        12.652763   \n",
       "3                       -99.000000              45.443914        15.115323   \n",
       "4                              NaN              41.981183         1.715696   \n",
       "...                            ...                    ...              ...   \n",
       "28195                    23.576793              45.399352         5.377222   \n",
       "28196                    24.034329              42.068979       -99.000000   \n",
       "28197                    28.674296              45.004213         9.550358   \n",
       "28198                    26.560254              48.032624         3.051389   \n",
       "28199                    18.721231               9.220208         2.593639   \n",
       "\n",
       "       gearbox_temperature(°C)  engine_temperature(°C)  motor_torque(N-m)  \\\n",
       "0                    82.410573               42.523015        2563.124522   \n",
       "1                    44.104919               46.258870        2372.384119   \n",
       "2                    42.322098               42.878552        1657.169646   \n",
       "3                    44.759643               47.282101        2888.134079   \n",
       "4                   -17.616459               43.469852         781.695419   \n",
       "...                        ...                     ...                ...   \n",
       "28195                -1.085171               48.528248        2791.600990   \n",
       "28196                44.285153               43.487939        2207.882276   \n",
       "28197                49.377706               44.042632        2801.657374   \n",
       "28198                81.443896               44.821365        2760.647280   \n",
       "28199                40.262279               40.901975        2015.977410   \n",
       "\n",
       "       generator_temperature(°C)  ...  windmill_body_temperature(°C)  \\\n",
       "0                      76.665560  ...                            NaN   \n",
       "1                      78.129803  ...                            NaN   \n",
       "2                      67.654469  ...                      45.033197   \n",
       "3                      95.389974  ...                      44.827154   \n",
       "4                      37.423065  ...                     -99.000000   \n",
       "...                          ...  ...                            ...   \n",
       "28195                  90.898875  ...                      44.242269   \n",
       "28196                  72.244645  ...                      43.616412   \n",
       "28197                  94.814637  ...                      43.576510   \n",
       "28198                  90.144418  ...                      44.973415   \n",
       "28199                  69.043447  ...                      44.100782   \n",
       "\n",
       "       wind_direction(°)  resistance(ohm)  rotor_torque(N-m)  turbine_status  \\\n",
       "0             239.836388      2730.310605          42.084666              BA   \n",
       "1             337.944723      1780.207200         107.888643              A2   \n",
       "2             227.850294      1666.049900         -42.931459             ABC   \n",
       "3             492.081520      1964.502895          42.744596             ABC   \n",
       "4             259.274601      1177.516152          13.387289             AAA   \n",
       "...                  ...              ...                ...             ...   \n",
       "28195         536.153413      1980.861921          45.909054              BB   \n",
       "28196         354.239825      1712.840457          36.974913              BB   \n",
       "28197         534.209913      1951.728713          88.319152               D   \n",
       "28198         568.504898      1968.917692          47.562627             BCB   \n",
       "28199         320.498070      1666.526546          -8.932053             BBB   \n",
       "\n",
       "       cloud_level blade_length(m) blade_breadth(m)  windmill_height(m)  \\\n",
       "0           Medium        2.217542         0.314065           24.281689   \n",
       "1           Medium        4.210346         0.448494           27.262139   \n",
       "2           Medium        2.719475         0.302321           27.366127   \n",
       "3              NaN        4.857385         0.367140           24.287767   \n",
       "4           Medium             NaN         0.453374           27.971650   \n",
       "...            ...             ...              ...                 ...   \n",
       "28195       Medium        2.774335         0.418299           24.590801   \n",
       "28196          Low       -3.250989         0.461531           26.051604   \n",
       "28197       Medium             NaN         0.380264           28.533850   \n",
       "28198          Low        3.001855         0.346447           47.747269   \n",
       "28199          Low             NaN         0.388855           24.125408   \n",
       "\n",
       "       windmill_generated_power(kW/h)  \n",
       "0                            6.766521  \n",
       "1                            5.966275  \n",
       "2                            2.874342  \n",
       "3                           14.851089  \n",
       "4                            3.519074  \n",
       "...                               ...  \n",
       "28195                        9.587934  \n",
       "28196                        4.522195  \n",
       "28197                       11.096599  \n",
       "28198                        9.373239  \n",
       "28199                        2.860342  \n",
       "\n",
       "[28200 rows x 22 columns]"
      ]
     },
     "execution_count": 3,
     "metadata": {},
     "output_type": "execute_result"
    }
   ],
   "source": [
    "df"
   ]
  },
  {
   "cell_type": "code",
   "execution_count": 4,
   "id": "breeding-baltimore",
   "metadata": {},
   "outputs": [],
   "source": [
    "df['datetime']=pd.to_datetime(df['datetime'])"
   ]
  },
  {
   "cell_type": "code",
   "execution_count": 5,
   "id": "dedicated-array",
   "metadata": {},
   "outputs": [
    {
     "data": {
      "text/plain": [
       "tracking_id                          0\n",
       "datetime                             0\n",
       "wind_speed(m/s)                    273\n",
       "atmospheric_temperature(°C)       3450\n",
       "shaft_temperature(°C)                2\n",
       "blades_angle(°)                    216\n",
       "gearbox_temperature(°C)              1\n",
       "engine_temperature(°C)              12\n",
       "motor_torque(N-m)                   24\n",
       "generator_temperature(°C)           12\n",
       "atmospheric_pressure(Pascal)      2707\n",
       "area_temperature(°C)                 0\n",
       "windmill_body_temperature(°C)     2363\n",
       "wind_direction(°)                 5103\n",
       "resistance(ohm)                      1\n",
       "rotor_torque(N-m)                  572\n",
       "turbine_status                    1759\n",
       "cloud_level                        276\n",
       "blade_length(m)                   5093\n",
       "blade_breadth(m)                     0\n",
       "windmill_height(m)                 543\n",
       "windmill_generated_power(kW/h)     207\n",
       "dtype: int64"
      ]
     },
     "execution_count": 5,
     "metadata": {},
     "output_type": "execute_result"
    }
   ],
   "source": [
    "df.isnull().sum()"
   ]
  },
  {
   "cell_type": "code",
   "execution_count": 6,
   "id": "silent-grace",
   "metadata": {},
   "outputs": [
    {
     "data": {
      "text/plain": [
       "<AxesSubplot:ylabel='Frequency'>"
      ]
     },
     "execution_count": 6,
     "metadata": {},
     "output_type": "execute_result"
    },
    {
     "data": {
      "image/png": "[encoded data removed]",
      "text/plain": [
       "<Figure size 432x288 with 1 Axes>"
      ]
     },
     "metadata": {
      "needs_background": "light"
     },
     "output_type": "display_data"
    }
   ],
   "source": [
    "df['wind_speed(m/s)'].plot.hist()"
   ]
  },
  {
   "cell_type": "code",
   "execution_count": 7,
   "id": "understood-hydrogen",
   "metadata": {},
   "outputs": [],
   "source": [
    "df['wind_speed(m/s)'] = df['wind_speed(m/s)'].replace(-99,0)\n",
    "df['wind_speed(m/s)'] = df['wind_speed(m/s)'].fillna(0)\n",
    "df['wind_speed(m/s)'] = df['wind_speed(m/s)'].replace(0,df['wind_speed(m/s)'].mean())"
   ]
  },
  {
   "cell_type": "code",
   "execution_count": 8,
   "id": "economic-speech",
   "metadata": {},
   "outputs": [
    {
     "data": {
      "text/plain": [
       "<AxesSubplot:ylabel='Frequency'>"
      ]
     },
     "execution_count": 8,
     "metadata": {},
     "output_type": "execute_result"
    },
    {
     "data": {
      "image/png": "[encoded data removed]",
      "text/plain": [
       "<Figure size 432x288 with 1 Axes>"
      ]
     },
     "metadata": {
      "needs_background": "light"
     },
     "output_type": "display_data"
    }
   ],
   "source": [
    "df['atmospheric_temperature(°C)'].plot.hist()"
   ]
  },
  {
   "cell_type": "code",
   "execution_count": 9,
   "id": "handed-costa",
   "metadata": {},
   "outputs": [
    {
     "data": {
      "text/plain": [
       "array([-99.        ,  27.76478479,          nan, ...,  28.6742957 ,\n",
       "        26.56025356,  18.72123086])"
      ]
     },
     "execution_count": 9,
     "metadata": {},
     "output_type": "execute_result"
    }
   ],
   "source": [
    "df['atmospheric_temperature(°C)'].values"
   ]
  },
  {
   "cell_type": "code",
   "execution_count": 10,
   "id": "addressed-tokyo",
   "metadata": {},
   "outputs": [],
   "source": [
    "df['atmospheric_temperature(°C)'] = df['atmospheric_temperature(°C)'].replace(-99,0)\n",
    "df['atmospheric_temperature(°C)'] = df['atmospheric_temperature(°C)'].fillna(0)\n",
    "df['atmospheric_temperature(°C)'] = df['atmospheric_temperature(°C)'].replace(0,df['atmospheric_temperature(°C)'].median())"
   ]
  },
  {
   "cell_type": "code",
   "execution_count": 11,
   "id": "noted-container",
   "metadata": {},
   "outputs": [
    {
     "data": {
      "text/plain": [
       "<AxesSubplot:ylabel='Frequency'>"
      ]
     },
     "execution_count": 11,
     "metadata": {},
     "output_type": "execute_result"
    },
    {
     "data": {
      "image/png": "[encoded data removed]",
      "text/plain": [
       "<Figure size 432x288 with 1 Axes>"
      ]
     },
     "metadata": {
      "needs_background": "light"
     },
     "output_type": "display_data"
    }
   ],
   "source": [
    "df['shaft_temperature(°C)'].plot.hist()"
   ]
  },
  {
   "cell_type": "code",
   "execution_count": 12,
   "id": "closing-denver",
   "metadata": {},
   "outputs": [],
   "source": [
    "df['shaft_temperature(°C)'] = df['shaft_temperature(°C)'].replace(-99,0)\n",
    "df['shaft_temperature(°C)'] = df['shaft_temperature(°C)'].fillna(0)\n",
    "df['shaft_temperature(°C)'] = df['shaft_temperature(°C)'].replace(0,df['shaft_temperature(°C)'].mean())"
   ]
  },
  {
   "cell_type": "code",
   "execution_count": 13,
   "id": "offshore-stand",
   "metadata": {},
   "outputs": [
    {
     "data": {
      "text/plain": [
       "<AxesSubplot:ylabel='Frequency'>"
      ]
     },
     "execution_count": 13,
     "metadata": {},
     "output_type": "execute_result"
    },
    {
     "data": {
      "image/png": "[encoded data removed]",
      "text/plain": [
       "<Figure size 432x288 with 1 Axes>"
      ]
     },
     "metadata": {
      "needs_background": "light"
     },
     "output_type": "display_data"
    }
   ],
   "source": [
    "df['blades_angle(°)'].plot.hist()"
   ]
  },
  {
   "cell_type": "code",
   "execution_count": 14,
   "id": "important-relation",
   "metadata": {},
   "outputs": [],
   "source": [
    "df['blades_angle(°)'] = df['blades_angle(°)'].replace(-99,0)\n",
    "df['blades_angle(°)'] = df['blades_angle(°)'].fillna(0)\n",
    "df['blades_angle(°)'] = df['blades_angle(°)'].replace(0,df['blades_angle(°)'].median())"
   ]
  },
  {
   "cell_type": "code",
   "execution_count": 15,
   "id": "opened-horizontal",
   "metadata": {},
   "outputs": [
    {
     "data": {
      "text/plain": [
       "8.50320566394154"
      ]
     },
     "execution_count": 15,
     "metadata": {},
     "output_type": "execute_result"
    }
   ],
   "source": [
    "df['blades_angle(°)'].mean()"
   ]
  },
  {
   "cell_type": "code",
   "execution_count": 16,
   "id": "periodic-delaware",
   "metadata": {},
   "outputs": [
    {
     "data": {
      "text/plain": [
       "<AxesSubplot:ylabel='Frequency'>"
      ]
     },
     "execution_count": 16,
     "metadata": {},
     "output_type": "execute_result"
    },
    {
     "data": {
      "image/png": "[encoded data removed]",
      "text/plain": [
       "<Figure size 432x288 with 1 Axes>"
      ]
     },
     "metadata": {
      "needs_background": "light"
     },
     "output_type": "display_data"
    }
   ],
   "source": [
    "df['gearbox_temperature(°C)'].plot.hist()"
   ]
  },
  {
   "cell_type": "code",
   "execution_count": 17,
   "id": "placed-complement",
   "metadata": {},
   "outputs": [],
   "source": [
    "df['gearbox_temperature(°C)'] = df['gearbox_temperature(°C)'].replace(-99,0)\n",
    "df['gearbox_temperature(°C)'] = df['gearbox_temperature(°C)'].fillna(0)\n",
    "df['gearbox_temperature(°C)'] = df['gearbox_temperature(°C)'].replace(0,df['gearbox_temperature(°C)'].median())"
   ]
  },
  {
   "cell_type": "code",
   "execution_count": 18,
   "id": "champion-gather",
   "metadata": {},
   "outputs": [
    {
     "data": {
      "text/plain": [
       "<AxesSubplot:ylabel='Frequency'>"
      ]
     },
     "execution_count": 18,
     "metadata": {},
     "output_type": "execute_result"
    },
    {
     "data": {
      "image/png": "[encoded data removed]",
      "text/plain": [
       "<Figure size 432x288 with 1 Axes>"
      ]
     },
     "metadata": {
      "needs_background": "light"
     },
     "output_type": "display_data"
    }
   ],
   "source": [
    "df['engine_temperature(°C)'].plot.hist()"
   ]
  },
  {
   "cell_type": "code",
   "execution_count": 19,
   "id": "prescription-thumbnail",
   "metadata": {},
   "outputs": [
    {
     "data": {
      "text/plain": [
       "42.614238563101054"
      ]
     },
     "execution_count": 19,
     "metadata": {},
     "output_type": "execute_result"
    }
   ],
   "source": [
    "df['engine_temperature(°C)'].mean()"
   ]
  },
  {
   "cell_type": "code",
   "execution_count": 20,
   "id": "sexual-livestock",
   "metadata": {},
   "outputs": [],
   "source": [
    "df['engine_temperature(°C)'] = df['engine_temperature(°C)'].fillna(0)\n",
    "df['engine_temperature(°C)'] = df['engine_temperature(°C)'].replace(0,df['engine_temperature(°C)'].median())"
   ]
  },
  {
   "cell_type": "code",
   "execution_count": 21,
   "id": "solid-repeat",
   "metadata": {},
   "outputs": [
    {
     "data": {
      "text/plain": [
       "<AxesSubplot:ylabel='Frequency'>"
      ]
     },
     "execution_count": 21,
     "metadata": {},
     "output_type": "execute_result"
    },
    {
     "data": {
      "image/png": "[encoded data removed]",
      "text/plain": [
       "<Figure size 432x288 with 1 Axes>"
      ]
     },
     "metadata": {
      "needs_background": "light"
     },
     "output_type": "display_data"
    }
   ],
   "source": [
    "df['motor_torque(N-m)'].plot.hist()"
   ]
  },
  {
   "cell_type": "code",
   "execution_count": 22,
   "id": "dedicated-campus",
   "metadata": {},
   "outputs": [],
   "source": [
    "df['motor_torque(N-m)'] = df['motor_torque(N-m)'].fillna(0)\n",
    "df['motor_torque(N-m)'] = df['motor_torque(N-m)'].replace(0,df['motor_torque(N-m)'].median())"
   ]
  },
  {
   "cell_type": "code",
   "execution_count": 23,
   "id": "reported-howard",
   "metadata": {},
   "outputs": [
    {
     "data": {
      "text/plain": [
       "<AxesSubplot:ylabel='Frequency'>"
      ]
     },
     "execution_count": 23,
     "metadata": {},
     "output_type": "execute_result"
    },
    {
     "data": {
      "image/png": "[encoded data removed]",
      "text/plain": [
       "<Figure size 432x288 with 1 Axes>"
      ]
     },
     "metadata": {
      "needs_background": "light"
     },
     "output_type": "display_data"
    }
   ],
   "source": [
    "df['generator_temperature(°C)'].plot.hist()"
   ]
  },
  {
   "cell_type": "code",
   "execution_count": 24,
   "id": "accessible-fault",
   "metadata": {},
   "outputs": [],
   "source": [
    "df['generator_temperature(°C)'] = df['generator_temperature(°C)'].fillna(0)\n",
    "df['generator_temperature(°C)'] = df['generator_temperature(°C)'].replace(0,df['generator_temperature(°C)'].median())"
   ]
  },
  {
   "cell_type": "code",
   "execution_count": 25,
   "id": "absent-logistics",
   "metadata": {},
   "outputs": [
    {
     "data": {
      "text/plain": [
       "<AxesSubplot:ylabel='Frequency'>"
      ]
     },
     "execution_count": 25,
     "metadata": {},
     "output_type": "execute_result"
    },
    {
     "data": {
      "image/png": "[encoded data removed]",
      "text/plain": [
       "<Figure size 432x288 with 1 Axes>"
      ]
     },
     "metadata": {
      "needs_background": "light"
     },
     "output_type": "display_data"
    }
   ],
   "source": [
    "df['atmospheric_pressure(Pascal)'].plot.hist()"
   ]
  },
  {
   "cell_type": "code",
   "execution_count": 26,
   "id": "strategic-roads",
   "metadata": {},
   "outputs": [],
   "source": [
    "df['atmospheric_pressure(Pascal)'] = df['atmospheric_pressure(Pascal)'].fillna(0)\n",
    "df['atmospheric_pressure(Pascal)'] = df['atmospheric_pressure(Pascal)'].replace(0,df['atmospheric_pressure(Pascal)'].mean())"
   ]
  },
  {
   "cell_type": "code",
   "execution_count": 27,
   "id": "neither-respondent",
   "metadata": {},
   "outputs": [
    {
     "data": {
      "text/plain": [
       "<AxesSubplot:ylabel='Frequency'>"
      ]
     },
     "execution_count": 27,
     "metadata": {},
     "output_type": "execute_result"
    },
    {
     "data": {
      "image/png": "[encoded data removed]",
      "text/plain": [
       "<Figure size 432x288 with 1 Axes>"
      ]
     },
     "metadata": {
      "needs_background": "light"
     },
     "output_type": "display_data"
    }
   ],
   "source": [
    "df['windmill_body_temperature(°C)'].plot.hist()"
   ]
  },
  {
   "cell_type": "code",
   "execution_count": 28,
   "id": "smoking-birmingham",
   "metadata": {},
   "outputs": [],
   "source": [
    "df['windmill_body_temperature(°C)'] = df['windmill_body_temperature(°C)'].replace(-99,0)\n",
    "df['windmill_body_temperature(°C)'] = df['windmill_body_temperature(°C)'].fillna(0)\n",
    "df['windmill_body_temperature(°C)'] = df['windmill_body_temperature(°C)'].replace(0,df['windmill_body_temperature(°C)'].median())"
   ]
  },
  {
   "cell_type": "code",
   "execution_count": 29,
   "id": "fatal-auction",
   "metadata": {},
   "outputs": [
    {
     "data": {
      "text/plain": [
       "<AxesSubplot:ylabel='Frequency'>"
      ]
     },
     "execution_count": 29,
     "metadata": {},
     "output_type": "execute_result"
    },
    {
     "data": {
      "image/png": "[encoded data removed]",
      "text/plain": [
       "<Figure size 432x288 with 1 Axes>"
      ]
     },
     "metadata": {
      "needs_background": "light"
     },
     "output_type": "display_data"
    }
   ],
   "source": [
    "df['wind_direction(°)'].plot.hist()"
   ]
  },
  {
   "cell_type": "code",
   "execution_count": 30,
   "id": "renewable-burton",
   "metadata": {},
   "outputs": [],
   "source": [
    "df['wind_direction(°)'] = df['wind_direction(°)'].fillna(0)\n",
    "df['wind_direction(°)'] = df['wind_direction(°)'].replace(df['wind_direction(°)'].mean())"
   ]
  },
  {
   "cell_type": "code",
   "execution_count": 31,
   "id": "illegal-morris",
   "metadata": {},
   "outputs": [
    {
     "data": {
      "text/plain": [
       "<AxesSubplot:ylabel='Frequency'>"
      ]
     },
     "execution_count": 31,
     "metadata": {},
     "output_type": "execute_result"
    },
    {
     "data": {
      "image/png": "[encoded data removed]",
      "text/plain": [
       "<Figure size 432x288 with 1 Axes>"
      ]
     },
     "metadata": {
      "needs_background": "light"
     },
     "output_type": "display_data"
    }
   ],
   "source": [
    "df['resistance(ohm)'].plot.hist()"
   ]
  },
  {
   "cell_type": "code",
   "execution_count": 32,
   "id": "chemical-wisconsin",
   "metadata": {},
   "outputs": [],
   "source": [
    "df['resistance(ohm)'] = df['resistance(ohm)'].replace(-99,0)\n",
    "df['resistance(ohm)'] = df['resistance(ohm)'].fillna(0)\n",
    "df['resistance(ohm)'] = df['resistance(ohm)'].replace(0,df['resistance(ohm)'].mean())"
   ]
  },
  {
   "cell_type": "code",
   "execution_count": 33,
   "id": "monthly-nitrogen",
   "metadata": {},
   "outputs": [
    {
     "data": {
      "text/plain": [
       "<AxesSubplot:ylabel='Frequency'>"
      ]
     },
     "execution_count": 33,
     "metadata": {},
     "output_type": "execute_result"
    },
    {
     "data": {
      "image/png": "[encoded data removed]",
      "text/plain": [
       "<Figure size 432x288 with 1 Axes>"
      ]
     },
     "metadata": {
      "needs_background": "light"
     },
     "output_type": "display_data"
    }
   ],
   "source": [
    "df['rotor_torque(N-m)'].plot.hist()"
   ]
  },
  {
   "cell_type": "code",
   "execution_count": 34,
   "id": "billion-bottle",
   "metadata": {},
   "outputs": [],
   "source": [
    "df['rotor_torque(N-m)'] = df['rotor_torque(N-m)'].replace(-99,0)\n",
    "df['rotor_torque(N-m)'] = df['rotor_torque(N-m)'].fillna(0)\n",
    "df['rotor_torque(N-m)'] = df['rotor_torque(N-m)'].replace(0,df['rotor_torque(N-m)'].mean())"
   ]
  },
  {
   "cell_type": "code",
   "execution_count": 35,
   "id": "handled-usage",
   "metadata": {},
   "outputs": [],
   "source": [
    "from sklearn.preprocessing import LabelEncoder, StandardScaler"
   ]
  },
  {
   "cell_type": "code",
   "execution_count": 36,
   "id": "exterior-divide",
   "metadata": {},
   "outputs": [],
   "source": [
    "df['turbine_status'] = LabelEncoder().fit_transform(df['turbine_status'])\n",
    "df['cloud_level'] = LabelEncoder().fit_transform(df['cloud_level'])"
   ]
  },
  {
   "cell_type": "code",
   "execution_count": 37,
   "id": "mental-homeless",
   "metadata": {},
   "outputs": [],
   "source": [
    "df['turbine_status'] = df['turbine_status'].fillna(df['turbine_status'].mode())"
   ]
  },
  {
   "cell_type": "code",
   "execution_count": 38,
   "id": "japanese-istanbul",
   "metadata": {},
   "outputs": [],
   "source": [
    "df['cloud_level'] = df['cloud_level'].fillna(df['cloud_level'].mode())"
   ]
  },
  {
   "cell_type": "code",
   "execution_count": 39,
   "id": "miniature-majority",
   "metadata": {
    "tags": []
   },
   "outputs": [
    {
     "data": {
      "text/plain": [
       "<AxesSubplot:ylabel='Frequency'>"
      ]
     },
     "execution_count": 39,
     "metadata": {},
     "output_type": "execute_result"
    },
    {
     "data": {
      "image/png": "[encoded data removed]",
      "text/plain": [
       "<Figure size 432x288 with 1 Axes>"
      ]
     },
     "metadata": {
      "needs_background": "light"
     },
     "output_type": "display_data"
    }
   ],
   "source": [
    "df['blade_length(m)'].plot.hist()"
   ]
  },
  {
   "cell_type": "code",
   "execution_count": 40,
   "id": "alternative-search",
   "metadata": {},
   "outputs": [],
   "source": [
    "df['blade_length(m)'] = df['blade_length(m)'].replace(-99,0)\n",
    "df['blade_length(m)'] = df['blade_length(m)'].fillna(0)\n",
    "df['blade_length(m)'] = df['blade_length(m)'].replace(0,df['blade_length(m)'].median())"
   ]
  },
  {
   "cell_type": "code",
   "execution_count": 41,
   "id": "round-minute",
   "metadata": {},
   "outputs": [
    {
     "data": {
      "text/plain": [
       "<AxesSubplot:ylabel='Frequency'>"
      ]
     },
     "execution_count": 41,
     "metadata": {},
     "output_type": "execute_result"
    },
    {
     "data": {
      "image/png": "[encoded data removed]",
      "text/plain": [
       "<Figure size 432x288 with 1 Axes>"
      ]
     },
     "metadata": {
      "needs_background": "light"
     },
     "output_type": "display_data"
    }
   ],
   "source": [
    "df['windmill_height(m)'].plot.hist()"
   ]
  },
  {
   "cell_type": "code",
   "execution_count": 42,
   "id": "useful-candle",
   "metadata": {},
   "outputs": [],
   "source": [
    "df['windmill_height(m)'] = df['windmill_height(m)'].fillna(0)\n",
    "df['windmill_height(m)'] = df['windmill_height(m)'].replace(0,df['windmill_height(m)'].mean())"
   ]
  },
  {
   "cell_type": "code",
   "execution_count": 43,
   "id": "eight-evolution",
   "metadata": {},
   "outputs": [
    {
     "data": {
      "text/plain": [
       "tracking_id                         0\n",
       "datetime                            0\n",
       "wind_speed(m/s)                     0\n",
       "atmospheric_temperature(°C)         0\n",
       "shaft_temperature(°C)               0\n",
       "blades_angle(°)                     0\n",
       "gearbox_temperature(°C)             0\n",
       "engine_temperature(°C)              0\n",
       "motor_torque(N-m)                   0\n",
       "generator_temperature(°C)           0\n",
       "atmospheric_pressure(Pascal)        0\n",
       "area_temperature(°C)                0\n",
       "windmill_body_temperature(°C)       0\n",
       "wind_direction(°)                   0\n",
       "resistance(ohm)                     0\n",
       "rotor_torque(N-m)                   0\n",
       "turbine_status                      0\n",
       "cloud_level                         0\n",
       "blade_length(m)                     0\n",
       "blade_breadth(m)                    0\n",
       "windmill_height(m)                  0\n",
       "windmill_generated_power(kW/h)    207\n",
       "dtype: int64"
      ]
     },
     "execution_count": 43,
     "metadata": {},
     "output_type": "execute_result"
    }
   ],
   "source": [
    "df.isnull().sum()"
   ]
  },
  {
   "cell_type": "code",
   "execution_count": 44,
   "id": "proud-pointer",
   "metadata": {},
   "outputs": [],
   "source": [
    "df=df.dropna()"
   ]
  },
  {
   "cell_type": "code",
   "execution_count": 45,
   "id": "blind-naples",
   "metadata": {},
   "outputs": [],
   "source": [
    "df['tracking_id'] = df['tracking_id'].str.replace('WM_','')"
   ]
  },
  {
   "cell_type": "code",
   "execution_count": 46,
   "id": "vertical-beaver",
   "metadata": {},
   "outputs": [],
   "source": [
    "df['tracking_id']=pd.to_numeric(df['tracking_id'])"
   ]
  },
  {
   "cell_type": "code",
   "execution_count": 47,
   "id": "asian-commodity",
   "metadata": {},
   "outputs": [],
   "source": [
    "df['resistance_gen']=df['resistance(ohm)']*(1+(df['generator_temperature(°C)'].mul(0.0015)))"
   ]
  },
  {
   "cell_type": "code",
   "execution_count": 48,
   "id": "constant-poison",
   "metadata": {},
   "outputs": [],
   "source": [
    "df['resistance_eng']=df['resistance(ohm)']*(1+(df['engine_temperature(°C)'].mul(0.0015)))"
   ]
  },
  {
   "cell_type": "code",
   "execution_count": 49,
   "id": "prerequisite-sigma",
   "metadata": {},
   "outputs": [],
   "source": [
    "df['motor_torque(N-m)_ln']=np.log(df['motor_torque(N-m)'])"
   ]
  },
  {
   "cell_type": "code",
   "execution_count": 50,
   "id": "a59021ac",
   "metadata": {},
   "outputs": [],
   "source": [
    "df.datetime = pd.to_datetime(df.datetime, format=\"%Y-%m-%d\")\n",
    "df[\"month\"] = df.datetime.dt.month\n",
    "df[\"week\"] = df.datetime.dt.week\n",
    "df[\"day\"] = df.datetime.dt.day\n",
    "df[\"day_of_week\"] = df.datetime.dt.dayofweek"
   ]
  },
  {
   "cell_type": "code",
   "execution_count": 51,
   "id": "accepted-parent",
   "metadata": {},
   "outputs": [
    {
     "data": {
      "text/html": [
       "<div>\n",
       "<style scoped>\n",
       "    .dataframe tbody tr th:only-of-type {\n",
       "        vertical-align: middle;\n",
       "    }\n",
       "\n",
       "    .dataframe tbody tr th {\n",
       "        vertical-align: top;\n",
       "    }\n",
       "\n",
       "    .dataframe thead th {\n",
       "        text-align: right;\n",
       "    }\n",
       "</style>\n",
       "<table border=\"1\" class=\"dataframe\">\n",
       "  <thead>\n",
       "    <tr style=\"text-align: right;\">\n",
       "      <th></th>\n",
       "      <th>tracking_id</th>\n",
       "      <th>datetime</th>\n",
       "      <th>wind_speed(m/s)</th>\n",
       "      <th>atmospheric_temperature(°C)</th>\n",
       "      <th>shaft_temperature(°C)</th>\n",
       "      <th>blades_angle(°)</th>\n",
       "      <th>gearbox_temperature(°C)</th>\n",
       "      <th>engine_temperature(°C)</th>\n",
       "      <th>motor_torque(N-m)</th>\n",
       "      <th>generator_temperature(°C)</th>\n",
       "      <th>...</th>\n",
       "      <th>blade_breadth(m)</th>\n",
       "      <th>windmill_height(m)</th>\n",
       "      <th>windmill_generated_power(kW/h)</th>\n",
       "      <th>resistance_gen</th>\n",
       "      <th>resistance_eng</th>\n",
       "      <th>motor_torque(N-m)_ln</th>\n",
       "      <th>month</th>\n",
       "      <th>week</th>\n",
       "      <th>day</th>\n",
       "      <th>day_of_week</th>\n",
       "    </tr>\n",
       "  </thead>\n",
       "  <tbody>\n",
       "    <tr>\n",
       "      <th>0</th>\n",
       "      <td>33725</td>\n",
       "      <td>2019-08-04 14:33:20</td>\n",
       "      <td>94.820023</td>\n",
       "      <td>14.150602</td>\n",
       "      <td>41.723019</td>\n",
       "      <td>-0.903423</td>\n",
       "      <td>82.410573</td>\n",
       "      <td>42.523015</td>\n",
       "      <td>2563.124522</td>\n",
       "      <td>76.665560</td>\n",
       "      <td>...</td>\n",
       "      <td>0.314065</td>\n",
       "      <td>24.281689</td>\n",
       "      <td>6.766521</td>\n",
       "      <td>3044.291792</td>\n",
       "      <td>2904.462165</td>\n",
       "      <td>7.848982</td>\n",
       "      <td>8</td>\n",
       "      <td>31</td>\n",
       "      <td>4</td>\n",
       "      <td>6</td>\n",
       "    </tr>\n",
       "    <tr>\n",
       "      <th>1</th>\n",
       "      <td>698</td>\n",
       "      <td>2018-11-05 10:13:20</td>\n",
       "      <td>241.832734</td>\n",
       "      <td>27.764785</td>\n",
       "      <td>42.037969</td>\n",
       "      <td>0.000000</td>\n",
       "      <td>44.104919</td>\n",
       "      <td>46.258870</td>\n",
       "      <td>2372.384119</td>\n",
       "      <td>78.129803</td>\n",
       "      <td>...</td>\n",
       "      <td>0.448494</td>\n",
       "      <td>27.262139</td>\n",
       "      <td>5.966275</td>\n",
       "      <td>1988.838056</td>\n",
       "      <td>1903.732760</td>\n",
       "      <td>7.771651</td>\n",
       "      <td>11</td>\n",
       "      <td>45</td>\n",
       "      <td>5</td>\n",
       "      <td>0</td>\n",
       "    </tr>\n",
       "    <tr>\n",
       "      <th>2</th>\n",
       "      <td>39146</td>\n",
       "      <td>2019-09-14 14:03:20</td>\n",
       "      <td>95.484724</td>\n",
       "      <td>14.150602</td>\n",
       "      <td>41.855473</td>\n",
       "      <td>12.652763</td>\n",
       "      <td>42.322098</td>\n",
       "      <td>42.878552</td>\n",
       "      <td>1657.169646</td>\n",
       "      <td>67.654469</td>\n",
       "      <td>...</td>\n",
       "      <td>0.302321</td>\n",
       "      <td>27.366127</td>\n",
       "      <td>2.874342</td>\n",
       "      <td>1835.123481</td>\n",
       "      <td>1773.206610</td>\n",
       "      <td>7.412866</td>\n",
       "      <td>9</td>\n",
       "      <td>37</td>\n",
       "      <td>14</td>\n",
       "      <td>5</td>\n",
       "    </tr>\n",
       "    <tr>\n",
       "      <th>3</th>\n",
       "      <td>6757</td>\n",
       "      <td>2018-12-25 15:33:20</td>\n",
       "      <td>238.819424</td>\n",
       "      <td>14.150602</td>\n",
       "      <td>45.443914</td>\n",
       "      <td>15.115323</td>\n",
       "      <td>44.759643</td>\n",
       "      <td>47.282101</td>\n",
       "      <td>2888.134079</td>\n",
       "      <td>95.389974</td>\n",
       "      <td>...</td>\n",
       "      <td>0.367140</td>\n",
       "      <td>24.287767</td>\n",
       "      <td>14.851089</td>\n",
       "      <td>2245.593716</td>\n",
       "      <td>2103.831631</td>\n",
       "      <td>7.968366</td>\n",
       "      <td>12</td>\n",
       "      <td>52</td>\n",
       "      <td>25</td>\n",
       "      <td>1</td>\n",
       "    </tr>\n",
       "    <tr>\n",
       "      <th>4</th>\n",
       "      <td>21521</td>\n",
       "      <td>2019-05-04 03:13:20</td>\n",
       "      <td>10.722890</td>\n",
       "      <td>14.150602</td>\n",
       "      <td>41.981183</td>\n",
       "      <td>1.715696</td>\n",
       "      <td>-17.616459</td>\n",
       "      <td>43.469852</td>\n",
       "      <td>781.695419</td>\n",
       "      <td>37.423065</td>\n",
       "      <td>...</td>\n",
       "      <td>0.453374</td>\n",
       "      <td>27.971650</td>\n",
       "      <td>3.519074</td>\n",
       "      <td>1243.615548</td>\n",
       "      <td>1254.295832</td>\n",
       "      <td>6.661465</td>\n",
       "      <td>5</td>\n",
       "      <td>18</td>\n",
       "      <td>4</td>\n",
       "      <td>5</td>\n",
       "    </tr>\n",
       "    <tr>\n",
       "      <th>...</th>\n",
       "      <td>...</td>\n",
       "      <td>...</td>\n",
       "      <td>...</td>\n",
       "      <td>...</td>\n",
       "      <td>...</td>\n",
       "      <td>...</td>\n",
       "      <td>...</td>\n",
       "      <td>...</td>\n",
       "      <td>...</td>\n",
       "      <td>...</td>\n",
       "      <td>...</td>\n",
       "      <td>...</td>\n",
       "      <td>...</td>\n",
       "      <td>...</td>\n",
       "      <td>...</td>\n",
       "      <td>...</td>\n",
       "      <td>...</td>\n",
       "      <td>...</td>\n",
       "      <td>...</td>\n",
       "      <td>...</td>\n",
       "      <td>...</td>\n",
       "    </tr>\n",
       "    <tr>\n",
       "      <th>28195</th>\n",
       "      <td>7814</td>\n",
       "      <td>2019-01-02 02:43:20</td>\n",
       "      <td>94.765699</td>\n",
       "      <td>23.576793</td>\n",
       "      <td>45.399352</td>\n",
       "      <td>5.377222</td>\n",
       "      <td>-1.085171</td>\n",
       "      <td>48.528248</td>\n",
       "      <td>2791.600990</td>\n",
       "      <td>90.898875</td>\n",
       "      <td>...</td>\n",
       "      <td>0.418299</td>\n",
       "      <td>24.590801</td>\n",
       "      <td>9.587934</td>\n",
       "      <td>2250.949101</td>\n",
       "      <td>2125.053558</td>\n",
       "      <td>7.934371</td>\n",
       "      <td>1</td>\n",
       "      <td>1</td>\n",
       "      <td>2</td>\n",
       "      <td>2</td>\n",
       "    </tr>\n",
       "    <tr>\n",
       "      <th>28196</th>\n",
       "      <td>32512</td>\n",
       "      <td>2019-07-26 12:53:20</td>\n",
       "      <td>94.196738</td>\n",
       "      <td>24.034329</td>\n",
       "      <td>42.068979</td>\n",
       "      <td>0.000000</td>\n",
       "      <td>44.285153</td>\n",
       "      <td>43.487939</td>\n",
       "      <td>2207.882276</td>\n",
       "      <td>72.244645</td>\n",
       "      <td>...</td>\n",
       "      <td>0.461531</td>\n",
       "      <td>26.051604</td>\n",
       "      <td>4.522195</td>\n",
       "      <td>1898.455783</td>\n",
       "      <td>1824.572308</td>\n",
       "      <td>7.699789</td>\n",
       "      <td>7</td>\n",
       "      <td>30</td>\n",
       "      <td>26</td>\n",
       "      <td>4</td>\n",
       "    </tr>\n",
       "    <tr>\n",
       "      <th>28197</th>\n",
       "      <td>5193</td>\n",
       "      <td>2018-12-12 02:13:20</td>\n",
       "      <td>94.160463</td>\n",
       "      <td>28.674296</td>\n",
       "      <td>45.004213</td>\n",
       "      <td>9.550358</td>\n",
       "      <td>49.377706</td>\n",
       "      <td>44.042632</td>\n",
       "      <td>2801.657374</td>\n",
       "      <td>94.814637</td>\n",
       "      <td>...</td>\n",
       "      <td>0.380264</td>\n",
       "      <td>28.533850</td>\n",
       "      <td>11.096599</td>\n",
       "      <td>2229.307386</td>\n",
       "      <td>2080.667618</td>\n",
       "      <td>7.937966</td>\n",
       "      <td>12</td>\n",
       "      <td>50</td>\n",
       "      <td>12</td>\n",
       "      <td>2</td>\n",
       "    </tr>\n",
       "    <tr>\n",
       "      <th>28198</th>\n",
       "      <td>12173</td>\n",
       "      <td>2019-02-03 19:13:20</td>\n",
       "      <td>95.430377</td>\n",
       "      <td>26.560254</td>\n",
       "      <td>48.032624</td>\n",
       "      <td>3.051389</td>\n",
       "      <td>81.443896</td>\n",
       "      <td>44.821365</td>\n",
       "      <td>2760.647280</td>\n",
       "      <td>90.144418</td>\n",
       "      <td>...</td>\n",
       "      <td>0.346447</td>\n",
       "      <td>47.747269</td>\n",
       "      <td>9.373239</td>\n",
       "      <td>2235.148102</td>\n",
       "      <td>2101.292059</td>\n",
       "      <td>7.923220</td>\n",
       "      <td>2</td>\n",
       "      <td>5</td>\n",
       "      <td>3</td>\n",
       "      <td>6</td>\n",
       "    </tr>\n",
       "    <tr>\n",
       "      <th>28199</th>\n",
       "      <td>33004</td>\n",
       "      <td>2019-07-30 11:43:20</td>\n",
       "      <td>43.558352</td>\n",
       "      <td>18.721231</td>\n",
       "      <td>9.220208</td>\n",
       "      <td>2.593639</td>\n",
       "      <td>40.262279</td>\n",
       "      <td>40.901975</td>\n",
       "      <td>2015.977410</td>\n",
       "      <td>69.043447</td>\n",
       "      <td>...</td>\n",
       "      <td>0.388855</td>\n",
       "      <td>24.125408</td>\n",
       "      <td>2.860342</td>\n",
       "      <td>1839.120652</td>\n",
       "      <td>1768.772888</td>\n",
       "      <td>7.608859</td>\n",
       "      <td>7</td>\n",
       "      <td>31</td>\n",
       "      <td>30</td>\n",
       "      <td>1</td>\n",
       "    </tr>\n",
       "  </tbody>\n",
       "</table>\n",
       "<p>27993 rows × 29 columns</p>\n",
       "</div>"
      ],
      "text/plain": [
       "       tracking_id            datetime  wind_speed(m/s)  \\\n",
       "0            33725 2019-08-04 14:33:20        94.820023   \n",
       "1              698 2018-11-05 10:13:20       241.832734   \n",
       "2            39146 2019-09-14 14:03:20        95.484724   \n",
       "3             6757 2018-12-25 15:33:20       238.819424   \n",
       "4            21521 2019-05-04 03:13:20        10.722890   \n",
       "...            ...                 ...              ...   \n",
       "28195         7814 2019-01-02 02:43:20        94.765699   \n",
       "28196        32512 2019-07-26 12:53:20        94.196738   \n",
       "28197         5193 2018-12-12 02:13:20        94.160463   \n",
       "28198        12173 2019-02-03 19:13:20        95.430377   \n",
       "28199        33004 2019-07-30 11:43:20        43.558352   \n",
       "\n",
       "       atmospheric_temperature(°C)  shaft_temperature(°C)  blades_angle(°)  \\\n",
       "0                        14.150602              41.723019        -0.903423   \n",
       "1                        27.764785              42.037969         0.000000   \n",
       "2                        14.150602              41.855473        12.652763   \n",
       "3                        14.150602              45.443914        15.115323   \n",
       "4                        14.150602              41.981183         1.715696   \n",
       "...                            ...                    ...              ...   \n",
       "28195                    23.576793              45.399352         5.377222   \n",
       "28196                    24.034329              42.068979         0.000000   \n",
       "28197                    28.674296              45.004213         9.550358   \n",
       "28198                    26.560254              48.032624         3.051389   \n",
       "28199                    18.721231               9.220208         2.593639   \n",
       "\n",
       "       gearbox_temperature(°C)  engine_temperature(°C)  motor_torque(N-m)  \\\n",
       "0                    82.410573               42.523015        2563.124522   \n",
       "1                    44.104919               46.258870        2372.384119   \n",
       "2                    42.322098               42.878552        1657.169646   \n",
       "3                    44.759643               47.282101        2888.134079   \n",
       "4                   -17.616459               43.469852         781.695419   \n",
       "...                        ...                     ...                ...   \n",
       "28195                -1.085171               48.528248        2791.600990   \n",
       "28196                44.285153               43.487939        2207.882276   \n",
       "28197                49.377706               44.042632        2801.657374   \n",
       "28198                81.443896               44.821365        2760.647280   \n",
       "28199                40.262279               40.901975        2015.977410   \n",
       "\n",
       "       generator_temperature(°C)  ...  blade_breadth(m)  windmill_height(m)  \\\n",
       "0                      76.665560  ...          0.314065           24.281689   \n",
       "1                      78.129803  ...          0.448494           27.262139   \n",
       "2                      67.654469  ...          0.302321           27.366127   \n",
       "3                      95.389974  ...          0.367140           24.287767   \n",
       "4                      37.423065  ...          0.453374           27.971650   \n",
       "...                          ...  ...               ...                 ...   \n",
       "28195                  90.898875  ...          0.418299           24.590801   \n",
       "28196                  72.244645  ...          0.461531           26.051604   \n",
       "28197                  94.814637  ...          0.380264           28.533850   \n",
       "28198                  90.144418  ...          0.346447           47.747269   \n",
       "28199                  69.043447  ...          0.388855           24.125408   \n",
       "\n",
       "       windmill_generated_power(kW/h)  resistance_gen  resistance_eng  \\\n",
       "0                            6.766521     3044.291792     2904.462165   \n",
       "1                            5.966275     1988.838056     1903.732760   \n",
       "2                            2.874342     1835.123481     1773.206610   \n",
       "3                           14.851089     2245.593716     2103.831631   \n",
       "4                            3.519074     1243.615548     1254.295832   \n",
       "...                               ...             ...             ...   \n",
       "28195                        9.587934     2250.949101     2125.053558   \n",
       "28196                        4.522195     1898.455783     1824.572308   \n",
       "28197                       11.096599     2229.307386     2080.667618   \n",
       "28198                        9.373239     2235.148102     2101.292059   \n",
       "28199                        2.860342     1839.120652     1768.772888   \n",
       "\n",
       "       motor_torque(N-m)_ln  month  week  day  day_of_week  \n",
       "0                  7.848982      8    31    4            6  \n",
       "1                  7.771651     11    45    5            0  \n",
       "2                  7.412866      9    37   14            5  \n",
       "3                  7.968366     12    52   25            1  \n",
       "4                  6.661465      5    18    4            5  \n",
       "...                     ...    ...   ...  ...          ...  \n",
       "28195              7.934371      1     1    2            2  \n",
       "28196              7.699789      7    30   26            4  \n",
       "28197              7.937966     12    50   12            2  \n",
       "28198              7.923220      2     5    3            6  \n",
       "28199              7.608859      7    31   30            1  \n",
       "\n",
       "[27993 rows x 29 columns]"
      ]
     },
     "execution_count": 51,
     "metadata": {},
     "output_type": "execute_result"
    }
   ],
   "source": [
    "df"
   ]
  },
  {
   "cell_type": "code",
   "execution_count": 52,
   "id": "91c331d0",
   "metadata": {},
   "outputs": [
    {
     "data": {
      "text/plain": [
       "Index(['tracking_id', 'datetime', 'wind_speed(m/s)',\n",
       "       'atmospheric_temperature(°C)', 'shaft_temperature(°C)',\n",
       "       'blades_angle(°)', 'gearbox_temperature(°C)', 'engine_temperature(°C)',\n",
       "       'motor_torque(N-m)', 'generator_temperature(°C)',\n",
       "       'atmospheric_pressure(Pascal)', 'area_temperature(°C)',\n",
       "       'windmill_body_temperature(°C)', 'wind_direction(°)', 'resistance(ohm)',\n",
       "       'rotor_torque(N-m)', 'turbine_status', 'cloud_level', 'blade_length(m)',\n",
       "       'blade_breadth(m)', 'windmill_height(m)',\n",
       "       'windmill_generated_power(kW/h)', 'resistance_gen', 'resistance_eng',\n",
       "       'motor_torque(N-m)_ln', 'month', 'week', 'day', 'day_of_week'],\n",
       "      dtype='object')"
      ]
     },
     "execution_count": 52,
     "metadata": {},
     "output_type": "execute_result"
    }
   ],
   "source": [
    "df.columns"
   ]
  },
  {
   "cell_type": "code",
   "execution_count": 53,
   "id": "secondary-combine",
   "metadata": {},
   "outputs": [],
   "source": [
    "X = df[['wind_speed(m/s)',\n",
    "       'atmospheric_temperature(°C)', 'shaft_temperature(°C)',\n",
    "       'blades_angle(°)', 'gearbox_temperature(°C)', 'engine_temperature(°C)',\n",
    "       'motor_torque(N-m)', 'generator_temperature(°C)',\n",
    "       'atmospheric_pressure(Pascal)', 'area_temperature(°C)',\n",
    "       'windmill_body_temperature(°C)', 'wind_direction(°)', 'resistance(ohm)',\n",
    "       'rotor_torque(N-m)', 'turbine_status', 'cloud_level', 'blade_length(m)',\n",
    "       'blade_breadth(m)', 'windmill_height(m)', 'resistance_gen', 'resistance_eng',\n",
    "       'motor_torque(N-m)_ln', 'month', 'week', 'day', 'day_of_week']]\n",
    "y = df[['windmill_generated_power(kW/h)']]"
   ]
  },
  {
   "cell_type": "code",
   "execution_count": 54,
   "id": "whole-orchestra",
   "metadata": {},
   "outputs": [],
   "source": [
    "# X_scaling = ['wind_speed(m/s)',\n",
    "#        'atmospheric_temperature(°C)', 'shaft_temperature(°C)',\n",
    "#        'blades_angle(°)', 'gearbox_temperature(°C)', 'engine_temperature(°C)',\n",
    "#        'motor_torque(N-m)', 'generator_temperature(°C)',\n",
    "#        'atmospheric_pressure(Pascal)', 'area_temperature(°C)',\n",
    "#        'windmill_body_temperature(°C)', 'wind_direction(°)', 'resistance(ohm)',\n",
    "#        'rotor_torque(N-m)', 'blade_length(m)',\n",
    "#        'blade_breadth(m)', 'windmill_height(m)']\n",
    "# df[X_scaling]=StandardScaler().fit_transform(df[X_scaling])\n",
    "# X_sc = df[['tracking_id', 'wind_speed(m/s)',\n",
    "#        'atmospheric_temperature(°C)', 'shaft_temperature(°C)',\n",
    "#        'blades_angle(°)', 'gearbox_temperature(°C)', 'engine_temperature(°C)',\n",
    "#        'motor_torque(N-m)', 'generator_temperature(°C)',\n",
    "#        'atmospheric_pressure(Pascal)', 'area_temperature(°C)',\n",
    "#        'windmill_body_temperature(°C)', 'wind_direction(°)', 'resistance(ohm)',\n",
    "#        'rotor_torque(N-m)', 'turbine_status', 'cloud_level', 'blade_length(m)',\n",
    "#        'blade_breadth(m)', 'windmill_height(m)']]"
   ]
  },
  {
   "cell_type": "code",
   "execution_count": 55,
   "id": "informed-lecture",
   "metadata": {},
   "outputs": [],
   "source": [
    "from catboost import CatBoostRegressor"
   ]
  },
  {
   "cell_type": "code",
   "execution_count": 68,
   "id": "auburn-peninsula",
   "metadata": {},
   "outputs": [
    {
     "data": {
      "text/plain": [
       "<AxesSubplot:>"
      ]
     },
     "execution_count": 68,
     "metadata": {},
     "output_type": "execute_result"
    },
    {
     "data": {
      "image/png": "[encoded data removed]",
      "text/plain": [
       "<Figure size 432x288 with 1 Axes>"
      ]
     },
     "metadata": {
      "needs_background": "light"
     },
     "output_type": "display_data"
    }
   ],
   "source": [
    "pd.Series(CatBoostRegressor(verbose=False).fit(X,y).feature_importances_,index=X.columns).nlargest(12).plot.barh(12)"
   ]
  },
  {
   "cell_type": "code",
   "execution_count": 56,
   "id": "indoor-imperial",
   "metadata": {},
   "outputs": [],
   "source": [
    "from sklearn.ensemble import ExtraTreesRegressor"
   ]
  },
  {
   "cell_type": "code",
   "execution_count": 70,
   "id": "competent-thing",
   "metadata": {},
   "outputs": [
    {
     "data": {
      "text/plain": [
       "<AxesSubplot:>"
      ]
     },
     "execution_count": 70,
     "metadata": {},
     "output_type": "execute_result"
    },
    {
     "data": {
      "image/png": "[encoded data removed]",
      "text/plain": [
       "<Figure size 432x288 with 1 Axes>"
      ]
     },
     "metadata": {
      "needs_background": "light"
     },
     "output_type": "display_data"
    }
   ],
   "source": [
    "pd.Series(ExtraTreesRegressor().fit(X,y).feature_importances_,index=X.columns).nlargest(12).plot.barh()"
   ]
  },
  {
   "cell_type": "code",
   "execution_count": 57,
   "id": "outer-today",
   "metadata": {},
   "outputs": [],
   "source": [
    "from xgboost import XGBRegressor"
   ]
  },
  {
   "cell_type": "code",
   "execution_count": 72,
   "id": "fossil-arnold",
   "metadata": {},
   "outputs": [
    {
     "data": {
      "text/plain": [
       "<AxesSubplot:>"
      ]
     },
     "execution_count": 72,
     "metadata": {},
     "output_type": "execute_result"
    },
    {
     "data": {
      "image/png": "[encoded data removed]",
      "text/plain": [
       "<Figure size 432x288 with 1 Axes>"
      ]
     },
     "metadata": {
      "needs_background": "light"
     },
     "output_type": "display_data"
    }
   ],
   "source": [
    "pd.Series(XGBRegressor().fit(X,y).feature_importances_,index=X.columns).nlargest(12).plot.barh()"
   ]
  },
  {
   "cell_type": "code",
   "execution_count": 58,
   "id": "involved-visitor",
   "metadata": {},
   "outputs": [],
   "source": [
    "from lightgbm import LGBMRegressor"
   ]
  },
  {
   "cell_type": "code",
   "execution_count": 74,
   "id": "distinguished-fifteen",
   "metadata": {},
   "outputs": [
    {
     "data": {
      "text/plain": [
       "<AxesSubplot:>"
      ]
     },
     "execution_count": 74,
     "metadata": {},
     "output_type": "execute_result"
    },
    {
     "data": {
      "image/png": "[encoded data removed]",
      "text/plain": [
       "<Figure size 432x288 with 1 Axes>"
      ]
     },
     "metadata": {
      "needs_background": "light"
     },
     "output_type": "display_data"
    }
   ],
   "source": [
    "pd.Series(LGBMRegressor().fit(X,y).feature_importances_,index=X.columns).nlargest(12).plot.barh()"
   ]
  },
  {
   "cell_type": "code",
   "execution_count": 64,
   "id": "stylish-mayor",
   "metadata": {},
   "outputs": [],
   "source": [
    "# X_bf = df[['blades_angle(°)','resistance(ohm)','atmospheric_pressure(Pascal)',\n",
    "#            'wind_speed(m/s)','motor_torque(N-m)','generator_temperature(°C)',\n",
    "#            'engine_temperature(°C)','area_temperature(°C)','gearbox_temperature(°C)',\n",
    "#            'wind_direction(°)','rotor_torque(N-m)']]\n",
    "\n",
    "# 'tracking_id', 'wind_speed(m/s)',\n",
    "#        'atmospheric_temperature(°C)', 'shaft_temperature(°C)',\n",
    "#        'blades_angle(°)', 'gearbox_temperature(°C)', 'engine_temperature(°C)',\n",
    "#        'motor_torque(N-m)', 'generator_temperature(°C)',\n",
    "#        'atmospheric_pressure(Pascal)', 'area_temperature(°C)',\n",
    "#        'windmill_body_temperature(°C)', 'wind_direction(°)', 'resistance(ohm)',\n",
    "#        'rotor_torque(N-m)', 'turbine_status', 'cloud_level', 'blade_length(m)',\n",
    "#        'blade_breadth(m)', 'windmill_height(m)'"
   ]
  },
  {
   "cell_type": "code",
   "execution_count": 59,
   "id": "silver-samoa",
   "metadata": {},
   "outputs": [],
   "source": [
    "# X_bf=df[['motor_torque(N-m)','blades_angle(°)','generator_temperature(°C)','resistance(ohm)',\n",
    "#         'atmospheric_pressure(Pascal)','engine_temperature(°C)','blade_breadth(m)',\n",
    "#         'area_temperature(°C)','wind_direction(°)','resistance_gen','resistance_eng',\n",
    "#         'motor_torque(N-m)_ln','wind_speed(m/s)']]\n",
    "\n",
    "X_bf=df[['wind_speed(m/s)',\n",
    "       'atmospheric_temperature(°C)', 'shaft_temperature(°C)',\n",
    "       'blades_angle(°)', 'gearbox_temperature(°C)', 'engine_temperature(°C)',\n",
    "       'motor_torque(N-m)', 'generator_temperature(°C)',\n",
    "       'atmospheric_pressure(Pascal)', 'area_temperature(°C)',\n",
    "       'windmill_body_temperature(°C)', 'wind_direction(°)', 'resistance(ohm)',\n",
    "       'rotor_torque(N-m)', 'turbine_status', 'cloud_level', 'blade_length(m)',\n",
    "       'blade_breadth(m)', 'windmill_height(m)', 'resistance_gen', 'resistance_eng',\n",
    "       'motor_torque(N-m)_ln', 'month', 'week', 'day', 'day_of_week']]"
   ]
  },
  {
   "cell_type": "code",
   "execution_count": 60,
   "id": "continued-magazine",
   "metadata": {},
   "outputs": [
    {
     "data": {
      "text/plain": [
       "wind_speed(m/s)                  0\n",
       "atmospheric_temperature(°C)      0\n",
       "shaft_temperature(°C)            0\n",
       "blades_angle(°)                  0\n",
       "gearbox_temperature(°C)          0\n",
       "engine_temperature(°C)           0\n",
       "motor_torque(N-m)                0\n",
       "generator_temperature(°C)        0\n",
       "atmospheric_pressure(Pascal)     0\n",
       "area_temperature(°C)             0\n",
       "windmill_body_temperature(°C)    0\n",
       "wind_direction(°)                0\n",
       "resistance(ohm)                  0\n",
       "rotor_torque(N-m)                0\n",
       "turbine_status                   0\n",
       "cloud_level                      0\n",
       "blade_length(m)                  0\n",
       "blade_breadth(m)                 0\n",
       "windmill_height(m)               0\n",
       "resistance_gen                   0\n",
       "resistance_eng                   0\n",
       "motor_torque(N-m)_ln             0\n",
       "month                            0\n",
       "week                             0\n",
       "day                              0\n",
       "day_of_week                      0\n",
       "dtype: int64"
      ]
     },
     "execution_count": 60,
     "metadata": {},
     "output_type": "execute_result"
    }
   ],
   "source": [
    "X_bf.isnull().sum()"
   ]
  },
  {
   "cell_type": "code",
   "execution_count": 62,
   "id": "regional-drill",
   "metadata": {},
   "outputs": [],
   "source": [
    "from sklearn.model_selection import train_test_split, KFold, cross_val_score\n",
    "from sklearn.metrics import *"
   ]
  },
  {
   "cell_type": "code",
   "execution_count": 63,
   "id": "serious-chamber",
   "metadata": {},
   "outputs": [],
   "source": [
    "X_train,X_test,y_train,y_test=train_test_split(X_bf,y,test_size=0.1,random_state=1)"
   ]
  },
  {
   "cell_type": "code",
   "execution_count": 64,
   "id": "responsible-thirty",
   "metadata": {},
   "outputs": [],
   "source": [
    "kf=KFold(n_splits=10,shuffle=True,random_state=1)"
   ]
  },
  {
   "cell_type": "code",
   "execution_count": 80,
   "id": "meaning-preliminary",
   "metadata": {},
   "outputs": [
    {
     "name": "stdout",
     "output_type": "stream",
     "text": [
      "Accuracy CBR 0.9650\n",
      "Accuracy XGBR 0.9622\n",
      "Accuracy ETR 0.9632\n",
      "Accuracy LGBMR 0.9615\n"
     ]
    }
   ],
   "source": [
    "cbr=cross_val_score(CatBoostRegressor(verbose=False),X_bf,y,cv=kf,scoring='r2')\n",
    "print('Accuracy CBR {:.4f}'.format(cbr.mean()))\n",
    "xgb=cross_val_score(XGBRegressor(),X_bf,y,cv=kf,scoring='r2')\n",
    "print('Accuracy XGBR {:.4f}'.format(xgb.mean()))\n",
    "etr=cross_val_score(ExtraTreesRegressor(n_jobs=-1),X_bf,y,cv=kf,scoring='r2')\n",
    "print('Accuracy ETR {:.4f}'.format(etr.mean()))\n",
    "lgbmr=cross_val_score(LGBMRegressor(),X_bf,y,cv=kf,scoring='r2')\n",
    "print('Accuracy LGBMR {:.4f}'.format(lgbmr.mean()))"
   ]
  },
  {
   "cell_type": "code",
   "execution_count": 67,
   "id": "b00974e6",
   "metadata": {},
   "outputs": [],
   "source": [
    "from sklearn.linear_model import *"
   ]
  },
  {
   "cell_type": "code",
   "execution_count": 69,
   "id": "097cdced",
   "metadata": {},
   "outputs": [
    {
     "name": "stdout",
     "output_type": "stream",
     "text": [
      "Accuracy train 0.4977\n",
      "Accuracy test 0.4822\n",
      "Difference 0.0156\n"
     ]
    }
   ],
   "source": [
    "rfr_model=LinearRegression()\n",
    "rfr_1=rfr_model.fit(X_train,y_train)\n",
    "y_train_pred=rfr_1.predict(X_train)\n",
    "y_test_pred=rfr_1.predict(X_test)\n",
    "print('Accuracy train {:.4f}'.format(r2_score(y_train,y_train_pred)))\n",
    "print('Accuracy test {:.4f}'.format(r2_score(y_test,y_test_pred)))\n",
    "print('Difference {:.4f}'.format(r2_score(y_train,y_train_pred)-r2_score(y_test,y_test_pred)))"
   ]
  },
  {
   "cell_type": "code",
   "execution_count": 81,
   "id": "typical-complement",
   "metadata": {},
   "outputs": [
    {
     "name": "stdout",
     "output_type": "stream",
     "text": [
      "Accuracy train 0.9985\n",
      "Accuracy test 0.9652\n",
      "Difference 0.0332\n"
     ]
    }
   ],
   "source": [
    "cbr_model=CatBoostRegressor(verbose=False,iterations=5000,learning_rate=0.1,l2_leaf_reg=0.1,depth=6,leaf_estimation_method='Gradient')\n",
    "cbr_1=cbr_model.fit(X_train,y_train)\n",
    "y_train_pred=cbr_1.predict(X_train)\n",
    "y_test_pred=cbr_1.predict(X_test)\n",
    "print('Accuracy train {:.4f}'.format(r2_score(y_train,y_train_pred)))\n",
    "print('Accuracy test {:.4f}'.format(r2_score(y_test,y_test_pred)))\n",
    "print('Difference {:.4f}'.format(r2_score(y_train,y_train_pred)-r2_score(y_test,y_test_pred)))"
   ]
  },
  {
   "cell_type": "code",
   "execution_count": 82,
   "id": "paperback-ghost",
   "metadata": {},
   "outputs": [],
   "source": [
    "# for estimator in (x*0.1 for x in range(1,100)):\n",
    "#     model=CatBoostRegressor(verbose=False,iterations=5000,learning_rate=estimator).fit(X_train,y_train)\n",
    "#     r2_train=model.predict(X_train)\n",
    "#     r2_test=model.predict(X_test)\n",
    "#     print('Estimator {}, Accuracy train {:.4f}, Accuracy test {:.4f}, Difference {:.4f}'.format(estimator,\n",
    "#                                                                                                 r2_score(y_train,r2_train),\n",
    "#                                                                                                 r2_score(y_test,r2_test),\n",
    "#                                                                                                 r2_score(y_train,r2_train)-r2_score(y_test,r2_test)))"
   ]
  },
  {
   "cell_type": "code",
   "execution_count": 83,
   "id": "arctic-ownership",
   "metadata": {},
   "outputs": [
    {
     "name": "stdout",
     "output_type": "stream",
     "text": [
      "Accuracy train 0.9943\n",
      "Accuracy test 0.9654\n",
      "Difference 0.0289\n"
     ]
    }
   ],
   "source": [
    "xgb_model=XGBRegressor(n_estimators=750,eta=0.1,max_depth=6,min_child_weight=1,reg_lambda=3)\n",
    "xgb_1=xgb_model.fit(X_train,y_train)\n",
    "print('Accuracy train {:.4f}'.format(xgb_1.score(X_train,y_train)))\n",
    "print('Accuracy test {:.4f}'.format(xgb_1.score(X_test,y_test)))\n",
    "print('Difference {:.4f}'.format(xgb_1.score(X_train,y_train)-xgb_1.score(X_test,y_test)))"
   ]
  },
  {
   "cell_type": "code",
   "execution_count": 84,
   "id": "aggressive-internet",
   "metadata": {},
   "outputs": [],
   "source": [
    "# for estimator in (x*100 for x in range(10,30)):\n",
    "#     model=XGBRegressor(n_estimators=estimator).fit(X_train,y_train)\n",
    "#     r2_train=model.predict(X_train)\n",
    "#     r2_test=model.predict(X_test)\n",
    "#     print('Estimator {}, Accuracy train {:.4f}, Accuracy test {:.4f}, Difference {:.4f}'.format(estimator,\n",
    "#                                                                                                 r2_score(y_train,r2_train),\n",
    "#                                                                                                 r2_score(y_test,r2_test),\n",
    "#                                                                                                 r2_score(y_train,r2_train)-r2_score(y_test,r2_test)))"
   ]
  },
  {
   "cell_type": "code",
   "execution_count": 85,
   "id": "conservative-wisconsin",
   "metadata": {},
   "outputs": [
    {
     "name": "stdout",
     "output_type": "stream",
     "text": [
      "Accuracy train 1.0000\n",
      "Accuracy test 0.9605\n",
      "Difference 0.0395\n"
     ]
    }
   ],
   "source": [
    "etc_model=ExtraTreesRegressor(n_jobs=-1,n_estimators=100,max_depth=27,max_samples=3,random_state=1)\n",
    "etc_1=etc_model.fit(X_train,y_train)\n",
    "print('Accuracy train {:.4f}'.format(etc_1.score(X_train,y_train)))\n",
    "print('Accuracy test {:.4f}'.format(etc_1.score(X_test,y_test)))\n",
    "print('Difference {:.4f}'.format(etc_1.score(X_train,y_train)-etc_1.score(X_test,y_test)))"
   ]
  },
  {
   "cell_type": "code",
   "execution_count": 86,
   "id": "sapphire-willow",
   "metadata": {},
   "outputs": [],
   "source": [
    "# for estimator in (x*1 for x in range(1,100)):\n",
    "#     model=ExtraTreesRegressor(n_jobs=-1,n_estimators=100,max_depth=27,max_samples=estimator).fit(X_train,y_train)\n",
    "#     r2_train=model.predict(X_train)\n",
    "#     r2_test=model.predict(X_test)\n",
    "#     print('Estimator {}, Accuracy train {:.4f}, Accuracy test {:.4f}, Difference {:.4f}'.format(estimator,\n",
    "#                                                                                                 r2_score(y_train,r2_train),\n",
    "#                                                                                                 r2_score(y_test,r2_test),\n",
    "#                                                                                                 r2_score(y_train,r2_train)-r2_score(y_test,r2_test)))"
   ]
  },
  {
   "cell_type": "code",
   "execution_count": 87,
   "id": "aboriginal-eugene",
   "metadata": {},
   "outputs": [
    {
     "name": "stdout",
     "output_type": "stream",
     "text": [
      "Accuracy train 0.9909\n",
      "Accuracy test 0.9654\n",
      "Difference 0.0255\n"
     ]
    }
   ],
   "source": [
    "lgbm_model=LGBMRegressor(num_iterations=1000,num_leaves=19,max_depth=14,learning_rate=0.1,reg_alpha=0.5,reg_lambda=0.7)\n",
    "lgbm_1=lgbm_model.fit(X_train,y_train)\n",
    "print('Accuracy train {:.4f}'.format(lgbm_1.score(X_train,y_train)))\n",
    "print('Accuracy test {:.4f}'.format(lgbm_1.score(X_test,y_test)))\n",
    "print('Difference {:.4f}'.format(lgbm_1.score(X_train,y_train)-lgbm_1.score(X_test,y_test)))"
   ]
  },
  {
   "cell_type": "code",
   "execution_count": 88,
   "id": "generic-chemical",
   "metadata": {},
   "outputs": [],
   "source": [
    "# for estimator in (x*0.1 for x in range(1,100)):\n",
    "#     model=LGBMRegressor(num_iterations=1000,num_leaves=19,max_depth=14,learning_rate=0.1,reg_alpha=0.5,reg_lambda=estimator).fit(X_train,y_train)\n",
    "#     r2_train=model.predict(X_train)\n",
    "#     r2_test=model.predict(X_test)\n",
    "#     print('Estimator {}, Accuracy train {:.4f}, Accuracy test {:.4f}, Difference {:.4f}'.format(estimator,\n",
    "#                                                                                                 r2_score(y_train,r2_train),\n",
    "#                                                                                                 r2_score(y_test,r2_test),\n",
    "#                                                                                                 r2_score(y_train,r2_train)-r2_score(y_test,r2_test)))"
   ]
  },
  {
   "cell_type": "code",
   "execution_count": 89,
   "id": "international-single",
   "metadata": {},
   "outputs": [],
   "source": [
    "from sklearn.ensemble import StackingRegressor"
   ]
  },
  {
   "cell_type": "code",
   "execution_count": 90,
   "id": "regional-vehicle",
   "metadata": {},
   "outputs": [],
   "source": [
    "est = [('cbr',cbr_model),('xgb',xgb_model),('etc',etc_model),('lgbm',lgbm_model)]"
   ]
  },
  {
   "cell_type": "code",
   "execution_count": 91,
   "id": "super-denmark",
   "metadata": {},
   "outputs": [],
   "source": [
    "# for estimator in (x*1 for x in range(1,20)):\n",
    "#     model=StackingRegressor(n_jobs=-1,estimators=est,final_estimator=CatBoostRegressor(verbose=False,iterations=900,depth=8,\n",
    "#                                                                                        l2_leaf_reg=estimator),\n",
    "#                             passthrough=True).fit(X_train,y_train)\n",
    "#     r2_train=model.predict(X_train)\n",
    "#     r2_test=model.predict(X_test)\n",
    "#     print('Estimator {}, Accuracy train {:.4f}, Accuracy test {:.4f}, Difference {:.4f}'.format(estimator,\n",
    "#                                                                                                 r2_score(y_train,r2_train),\n",
    "#                                                                                                 r2_score(y_test,r2_test),\n",
    "#                                                                                                 r2_score(y_train,r2_train)-r2_score(y_test,r2_test)))"
   ]
  },
  {
   "cell_type": "code",
   "execution_count": 92,
   "id": "prime-quantum",
   "metadata": {},
   "outputs": [],
   "source": [
    "stacked = StackingRegressor(n_jobs=-1,estimators=est,final_estimator=CatBoostRegressor(verbose=False,iterations=5000,depth=8),\n",
    "                            passthrough=True)"
   ]
  },
  {
   "cell_type": "code",
   "execution_count": 93,
   "id": "varying-hamilton",
   "metadata": {},
   "outputs": [
    {
     "name": "stdout",
     "output_type": "stream",
     "text": [
      "Accuracy train 0.9962\n",
      "Accuracy test 0.9685\n",
      "Difference 0.0277\n"
     ]
    }
   ],
   "source": [
    "stacked_1=stacked.fit(X_train,y_train)\n",
    "y_train_pred=stacked_1.predict(X_train)\n",
    "y_test_pred=stacked_1.predict(X_test)\n",
    "print('Accuracy train {:.4f}'.format(r2_score(y_train,y_train_pred)))\n",
    "print('Accuracy test {:.4f}'.format(r2_score(y_test,y_test_pred)))\n",
    "print('Difference {:.4f}'.format(r2_score(y_train,y_train_pred)-r2_score(y_test,y_test_pred)))"
   ]
  },
  {
   "cell_type": "markdown",
   "id": "advisory-pocket",
   "metadata": {},
   "source": [
    "## TEST"
   ]
  },
  {
   "cell_type": "code",
   "execution_count": 94,
   "id": "excellent-carry",
   "metadata": {},
   "outputs": [],
   "source": [
    "df_test=pd.read_csv('test.csv')"
   ]
  },
  {
   "cell_type": "code",
   "execution_count": 95,
   "id": "rubber-switch",
   "metadata": {},
   "outputs": [
    {
     "data": {
      "text/html": [
       "<div>\n",
       "<style scoped>\n",
       "    .dataframe tbody tr th:only-of-type {\n",
       "        vertical-align: middle;\n",
       "    }\n",
       "\n",
       "    .dataframe tbody tr th {\n",
       "        vertical-align: top;\n",
       "    }\n",
       "\n",
       "    .dataframe thead th {\n",
       "        text-align: right;\n",
       "    }\n",
       "</style>\n",
       "<table border=\"1\" class=\"dataframe\">\n",
       "  <thead>\n",
       "    <tr style=\"text-align: right;\">\n",
       "      <th></th>\n",
       "      <th>tracking_id</th>\n",
       "      <th>datetime</th>\n",
       "      <th>wind_speed(m/s)</th>\n",
       "      <th>atmospheric_temperature(°C)</th>\n",
       "      <th>shaft_temperature(°C)</th>\n",
       "      <th>blades_angle(°)</th>\n",
       "      <th>gearbox_temperature(°C)</th>\n",
       "      <th>engine_temperature(°C)</th>\n",
       "      <th>motor_torque(N-m)</th>\n",
       "      <th>generator_temperature(°C)</th>\n",
       "      <th>...</th>\n",
       "      <th>area_temperature(°C)</th>\n",
       "      <th>windmill_body_temperature(°C)</th>\n",
       "      <th>wind_direction(°)</th>\n",
       "      <th>resistance(ohm)</th>\n",
       "      <th>rotor_torque(N-m)</th>\n",
       "      <th>turbine_status</th>\n",
       "      <th>cloud_level</th>\n",
       "      <th>blade_length(m)</th>\n",
       "      <th>blade_breadth(m)</th>\n",
       "      <th>windmill_height(m)</th>\n",
       "    </tr>\n",
       "  </thead>\n",
       "  <tbody>\n",
       "    <tr>\n",
       "      <th>0</th>\n",
       "      <td>WM_19817</td>\n",
       "      <td>2019-04-17 08:53:20</td>\n",
       "      <td>94.324266</td>\n",
       "      <td>17.641186</td>\n",
       "      <td>89.714193</td>\n",
       "      <td>51.146788</td>\n",
       "      <td>40.460560</td>\n",
       "      <td>39.594734</td>\n",
       "      <td>1073.202715</td>\n",
       "      <td>66.830037</td>\n",
       "      <td>...</td>\n",
       "      <td>24.004812</td>\n",
       "      <td>43.756693</td>\n",
       "      <td>445.976992</td>\n",
       "      <td>1664.222023</td>\n",
       "      <td>21.912243</td>\n",
       "      <td>BA</td>\n",
       "      <td>Medium</td>\n",
       "      <td>3.185837</td>\n",
       "      <td>0.403965</td>\n",
       "      <td>25.572431</td>\n",
       "    </tr>\n",
       "    <tr>\n",
       "      <th>1</th>\n",
       "      <td>WM_18723</td>\n",
       "      <td>2019-03-30 07:43:20</td>\n",
       "      <td>10.088870</td>\n",
       "      <td>13.978119</td>\n",
       "      <td>43.272846</td>\n",
       "      <td>46.516394</td>\n",
       "      <td>40.027788</td>\n",
       "      <td>41.176860</td>\n",
       "      <td>517.436430</td>\n",
       "      <td>37.284163</td>\n",
       "      <td>...</td>\n",
       "      <td>29.431813</td>\n",
       "      <td>42.728174</td>\n",
       "      <td>499.595287</td>\n",
       "      <td>1165.111992</td>\n",
       "      <td>-35.050093</td>\n",
       "      <td>A</td>\n",
       "      <td>Medium</td>\n",
       "      <td>3.016603</td>\n",
       "      <td>0.444755</td>\n",
       "      <td>24.371823</td>\n",
       "    </tr>\n",
       "    <tr>\n",
       "      <th>2</th>\n",
       "      <td>WM_34552</td>\n",
       "      <td>2019-08-10 11:33:20</td>\n",
       "      <td>347.152090</td>\n",
       "      <td>31.423035</td>\n",
       "      <td>41.076640</td>\n",
       "      <td>26.931602</td>\n",
       "      <td>43.109122</td>\n",
       "      <td>43.439556</td>\n",
       "      <td>1480.716492</td>\n",
       "      <td>70.010762</td>\n",
       "      <td>...</td>\n",
       "      <td>29.924235</td>\n",
       "      <td>43.256122</td>\n",
       "      <td>245.432231</td>\n",
       "      <td>1667.720491</td>\n",
       "      <td>27.195302</td>\n",
       "      <td>B2</td>\n",
       "      <td>Medium</td>\n",
       "      <td>2.611941</td>\n",
       "      <td>0.387368</td>\n",
       "      <td>27.654677</td>\n",
       "    </tr>\n",
       "    <tr>\n",
       "      <th>3</th>\n",
       "      <td>WM_28570</td>\n",
       "      <td>2019-06-26 03:53:20</td>\n",
       "      <td>24.471997</td>\n",
       "      <td>-99.000000</td>\n",
       "      <td>14.375078</td>\n",
       "      <td>66.513953</td>\n",
       "      <td>13.741253</td>\n",
       "      <td>15.577472</td>\n",
       "      <td>887.979475</td>\n",
       "      <td>41.445258</td>\n",
       "      <td>...</td>\n",
       "      <td>23.886434</td>\n",
       "      <td>13.501595</td>\n",
       "      <td>NaN</td>\n",
       "      <td>1329.744740</td>\n",
       "      <td>15.245757</td>\n",
       "      <td>BBB</td>\n",
       "      <td>Low</td>\n",
       "      <td>2.866805</td>\n",
       "      <td>0.450478</td>\n",
       "      <td>24.189426</td>\n",
       "    </tr>\n",
       "    <tr>\n",
       "      <th>4</th>\n",
       "      <td>WM_36934</td>\n",
       "      <td>2019-08-27 16:43:20</td>\n",
       "      <td>96.997026</td>\n",
       "      <td>33.281836</td>\n",
       "      <td>41.405192</td>\n",
       "      <td>1.843112</td>\n",
       "      <td>121.572907</td>\n",
       "      <td>43.934587</td>\n",
       "      <td>2053.916354</td>\n",
       "      <td>68.007787</td>\n",
       "      <td>...</td>\n",
       "      <td>35.906889</td>\n",
       "      <td>-99.000000</td>\n",
       "      <td>442.425744</td>\n",
       "      <td>691.408996</td>\n",
       "      <td>34.257024</td>\n",
       "      <td>A</td>\n",
       "      <td>Low</td>\n",
       "      <td>3.549672</td>\n",
       "      <td>0.368355</td>\n",
       "      <td>4.885440</td>\n",
       "    </tr>\n",
       "    <tr>\n",
       "      <th>...</th>\n",
       "      <td>...</td>\n",
       "      <td>...</td>\n",
       "      <td>...</td>\n",
       "      <td>...</td>\n",
       "      <td>...</td>\n",
       "      <td>...</td>\n",
       "      <td>...</td>\n",
       "      <td>...</td>\n",
       "      <td>...</td>\n",
       "      <td>...</td>\n",
       "      <td>...</td>\n",
       "      <td>...</td>\n",
       "      <td>...</td>\n",
       "      <td>...</td>\n",
       "      <td>...</td>\n",
       "      <td>...</td>\n",
       "      <td>...</td>\n",
       "      <td>...</td>\n",
       "      <td>...</td>\n",
       "      <td>...</td>\n",
       "      <td>...</td>\n",
       "    </tr>\n",
       "    <tr>\n",
       "      <th>12081</th>\n",
       "      <td>WM_13376</td>\n",
       "      <td>2019-02-12 11:33:20</td>\n",
       "      <td>-15.039400</td>\n",
       "      <td>18.517204</td>\n",
       "      <td>43.545409</td>\n",
       "      <td>-1.094038</td>\n",
       "      <td>44.550547</td>\n",
       "      <td>44.486619</td>\n",
       "      <td>2424.370244</td>\n",
       "      <td>75.850209</td>\n",
       "      <td>...</td>\n",
       "      <td>28.424722</td>\n",
       "      <td>42.128526</td>\n",
       "      <td>509.795489</td>\n",
       "      <td>1798.141681</td>\n",
       "      <td>-14.365696</td>\n",
       "      <td>NaN</td>\n",
       "      <td>Medium</td>\n",
       "      <td>3.286975</td>\n",
       "      <td>0.407771</td>\n",
       "      <td>20.888674</td>\n",
       "    </tr>\n",
       "    <tr>\n",
       "      <th>12082</th>\n",
       "      <td>WM_1630</td>\n",
       "      <td>2018-11-12 17:33:20</td>\n",
       "      <td>97.594116</td>\n",
       "      <td>-99.000000</td>\n",
       "      <td>44.747916</td>\n",
       "      <td>1.750553</td>\n",
       "      <td>43.308176</td>\n",
       "      <td>42.848779</td>\n",
       "      <td>2085.627252</td>\n",
       "      <td>73.091866</td>\n",
       "      <td>...</td>\n",
       "      <td>50.615296</td>\n",
       "      <td>47.353528</td>\n",
       "      <td>345.705839</td>\n",
       "      <td>1680.245230</td>\n",
       "      <td>-7.062661</td>\n",
       "      <td>AB</td>\n",
       "      <td>Low</td>\n",
       "      <td>NaN</td>\n",
       "      <td>0.367823</td>\n",
       "      <td>24.793606</td>\n",
       "    </tr>\n",
       "    <tr>\n",
       "      <th>12083</th>\n",
       "      <td>WM_24703</td>\n",
       "      <td>2019-05-27 11:53:20</td>\n",
       "      <td>16.186805</td>\n",
       "      <td>8.109976</td>\n",
       "      <td>43.252012</td>\n",
       "      <td>-0.691090</td>\n",
       "      <td>214.904165</td>\n",
       "      <td>41.177782</td>\n",
       "      <td>788.687177</td>\n",
       "      <td>39.514258</td>\n",
       "      <td>...</td>\n",
       "      <td>20.983939</td>\n",
       "      <td>41.768478</td>\n",
       "      <td>205.569627</td>\n",
       "      <td>2343.165194</td>\n",
       "      <td>12.331790</td>\n",
       "      <td>BA</td>\n",
       "      <td>Low</td>\n",
       "      <td>3.728375</td>\n",
       "      <td>0.459887</td>\n",
       "      <td>5.653451</td>\n",
       "    </tr>\n",
       "    <tr>\n",
       "      <th>12084</th>\n",
       "      <td>WM_22893</td>\n",
       "      <td>2019-05-13 21:53:20</td>\n",
       "      <td>93.254033</td>\n",
       "      <td>-99.000000</td>\n",
       "      <td>43.841789</td>\n",
       "      <td>-1.171974</td>\n",
       "      <td>41.976913</td>\n",
       "      <td>42.039796</td>\n",
       "      <td>2079.855634</td>\n",
       "      <td>71.482324</td>\n",
       "      <td>...</td>\n",
       "      <td>29.114305</td>\n",
       "      <td>82.750271</td>\n",
       "      <td>260.578999</td>\n",
       "      <td>1732.883672</td>\n",
       "      <td>NaN</td>\n",
       "      <td>A</td>\n",
       "      <td>Medium</td>\n",
       "      <td>2.247676</td>\n",
       "      <td>0.394680</td>\n",
       "      <td>24.591364</td>\n",
       "    </tr>\n",
       "    <tr>\n",
       "      <th>12085</th>\n",
       "      <td>WM_14513</td>\n",
       "      <td>2019-02-20 23:43:20</td>\n",
       "      <td>42.607485</td>\n",
       "      <td>13.245828</td>\n",
       "      <td>43.480982</td>\n",
       "      <td>9.258178</td>\n",
       "      <td>132.587960</td>\n",
       "      <td>46.312684</td>\n",
       "      <td>969.733090</td>\n",
       "      <td>46.777642</td>\n",
       "      <td>...</td>\n",
       "      <td>39.491015</td>\n",
       "      <td>97.070812</td>\n",
       "      <td>NaN</td>\n",
       "      <td>-99.000000</td>\n",
       "      <td>19.467561</td>\n",
       "      <td>A2</td>\n",
       "      <td>Medium</td>\n",
       "      <td>NaN</td>\n",
       "      <td>0.490893</td>\n",
       "      <td>21.665001</td>\n",
       "    </tr>\n",
       "  </tbody>\n",
       "</table>\n",
       "<p>12086 rows × 21 columns</p>\n",
       "</div>"
      ],
      "text/plain": [
       "      tracking_id             datetime  wind_speed(m/s)  \\\n",
       "0        WM_19817  2019-04-17 08:53:20        94.324266   \n",
       "1        WM_18723  2019-03-30 07:43:20        10.088870   \n",
       "2        WM_34552  2019-08-10 11:33:20       347.152090   \n",
       "3        WM_28570  2019-06-26 03:53:20        24.471997   \n",
       "4        WM_36934  2019-08-27 16:43:20        96.997026   \n",
       "...           ...                  ...              ...   \n",
       "12081    WM_13376  2019-02-12 11:33:20       -15.039400   \n",
       "12082     WM_1630  2018-11-12 17:33:20        97.594116   \n",
       "12083    WM_24703  2019-05-27 11:53:20        16.186805   \n",
       "12084    WM_22893  2019-05-13 21:53:20        93.254033   \n",
       "12085    WM_14513  2019-02-20 23:43:20        42.607485   \n",
       "\n",
       "       atmospheric_temperature(°C)  shaft_temperature(°C)  blades_angle(°)  \\\n",
       "0                        17.641186              89.714193        51.146788   \n",
       "1                        13.978119              43.272846        46.516394   \n",
       "2                        31.423035              41.076640        26.931602   \n",
       "3                       -99.000000              14.375078        66.513953   \n",
       "4                        33.281836              41.405192         1.843112   \n",
       "...                            ...                    ...              ...   \n",
       "12081                    18.517204              43.545409        -1.094038   \n",
       "12082                   -99.000000              44.747916         1.750553   \n",
       "12083                     8.109976              43.252012        -0.691090   \n",
       "12084                   -99.000000              43.841789        -1.171974   \n",
       "12085                    13.245828              43.480982         9.258178   \n",
       "\n",
       "       gearbox_temperature(°C)  engine_temperature(°C)  motor_torque(N-m)  \\\n",
       "0                    40.460560               39.594734        1073.202715   \n",
       "1                    40.027788               41.176860         517.436430   \n",
       "2                    43.109122               43.439556        1480.716492   \n",
       "3                    13.741253               15.577472         887.979475   \n",
       "4                   121.572907               43.934587        2053.916354   \n",
       "...                        ...                     ...                ...   \n",
       "12081                44.550547               44.486619        2424.370244   \n",
       "12082                43.308176               42.848779        2085.627252   \n",
       "12083               214.904165               41.177782         788.687177   \n",
       "12084                41.976913               42.039796        2079.855634   \n",
       "12085               132.587960               46.312684         969.733090   \n",
       "\n",
       "       generator_temperature(°C)  ...  area_temperature(°C)  \\\n",
       "0                      66.830037  ...             24.004812   \n",
       "1                      37.284163  ...             29.431813   \n",
       "2                      70.010762  ...             29.924235   \n",
       "3                      41.445258  ...             23.886434   \n",
       "4                      68.007787  ...             35.906889   \n",
       "...                          ...  ...                   ...   \n",
       "12081                  75.850209  ...             28.424722   \n",
       "12082                  73.091866  ...             50.615296   \n",
       "12083                  39.514258  ...             20.983939   \n",
       "12084                  71.482324  ...             29.114305   \n",
       "12085                  46.777642  ...             39.491015   \n",
       "\n",
       "       windmill_body_temperature(°C)  wind_direction(°)  resistance(ohm)  \\\n",
       "0                          43.756693         445.976992      1664.222023   \n",
       "1                          42.728174         499.595287      1165.111992   \n",
       "2                          43.256122         245.432231      1667.720491   \n",
       "3                          13.501595                NaN      1329.744740   \n",
       "4                         -99.000000         442.425744       691.408996   \n",
       "...                              ...                ...              ...   \n",
       "12081                      42.128526         509.795489      1798.141681   \n",
       "12082                      47.353528         345.705839      1680.245230   \n",
       "12083                      41.768478         205.569627      2343.165194   \n",
       "12084                      82.750271         260.578999      1732.883672   \n",
       "12085                      97.070812                NaN       -99.000000   \n",
       "\n",
       "       rotor_torque(N-m)  turbine_status cloud_level blade_length(m)  \\\n",
       "0              21.912243              BA      Medium        3.185837   \n",
       "1             -35.050093               A      Medium        3.016603   \n",
       "2              27.195302              B2      Medium        2.611941   \n",
       "3              15.245757             BBB         Low        2.866805   \n",
       "4              34.257024               A         Low        3.549672   \n",
       "...                  ...             ...         ...             ...   \n",
       "12081         -14.365696             NaN      Medium        3.286975   \n",
       "12082          -7.062661              AB         Low             NaN   \n",
       "12083          12.331790              BA         Low        3.728375   \n",
       "12084                NaN               A      Medium        2.247676   \n",
       "12085          19.467561              A2      Medium             NaN   \n",
       "\n",
       "       blade_breadth(m)  windmill_height(m)  \n",
       "0              0.403965           25.572431  \n",
       "1              0.444755           24.371823  \n",
       "2              0.387368           27.654677  \n",
       "3              0.450478           24.189426  \n",
       "4              0.368355            4.885440  \n",
       "...                 ...                 ...  \n",
       "12081          0.407771           20.888674  \n",
       "12082          0.367823           24.793606  \n",
       "12083          0.459887            5.653451  \n",
       "12084          0.394680           24.591364  \n",
       "12085          0.490893           21.665001  \n",
       "\n",
       "[12086 rows x 21 columns]"
      ]
     },
     "execution_count": 95,
     "metadata": {},
     "output_type": "execute_result"
    }
   ],
   "source": [
    "df_test"
   ]
  },
  {
   "cell_type": "code",
   "execution_count": 134,
   "id": "technological-tokyo",
   "metadata": {},
   "outputs": [],
   "source": [
    "X_bf_test = df_test[['datetime','wind_speed(m/s)','blades_angle(°)', 'gearbox_temperature(°C)', 'engine_temperature(°C)',\n",
    "       'motor_torque(N-m)', 'generator_temperature(°C)', 'area_temperature(°C)','atmospheric_pressure(Pascal)','resistance(ohm)',\n",
    "       'atmospheric_temperature(°C)', 'shaft_temperature(°C)',\n",
    "       'windmill_body_temperature(°C)', 'wind_direction(°)', \n",
    "       'rotor_torque(N-m)', 'turbine_status', 'cloud_level', 'blade_length(m)',\n",
    "       'blade_breadth(m)', 'windmill_height(m)']]"
   ]
  },
  {
   "cell_type": "code",
   "execution_count": 135,
   "id": "brown-process",
   "metadata": {},
   "outputs": [
    {
     "data": {
      "text/plain": [
       "datetime                            0\n",
       "wind_speed(m/s)                   126\n",
       "blades_angle(°)                   106\n",
       "gearbox_temperature(°C)             1\n",
       "engine_temperature(°C)              5\n",
       "motor_torque(N-m)                  11\n",
       "generator_temperature(°C)           5\n",
       "area_temperature(°C)                1\n",
       "atmospheric_pressure(Pascal)     1151\n",
       "resistance(ohm)                     0\n",
       "atmospheric_temperature(°C)      1427\n",
       "shaft_temperature(°C)               1\n",
       "windmill_body_temperature(°C)     926\n",
       "wind_direction(°)                2160\n",
       "rotor_torque(N-m)                 281\n",
       "turbine_status                    797\n",
       "cloud_level                       125\n",
       "blade_length(m)                  2114\n",
       "blade_breadth(m)                    0\n",
       "windmill_height(m)                255\n",
       "dtype: int64"
      ]
     },
     "execution_count": 135,
     "metadata": {},
     "output_type": "execute_result"
    }
   ],
   "source": [
    "X_bf_test.isnull().sum()"
   ]
  },
  {
   "cell_type": "code",
   "execution_count": 136,
   "id": "tight-morris",
   "metadata": {},
   "outputs": [
    {
     "data": {
      "text/plain": [
       "<AxesSubplot:ylabel='Frequency'>"
      ]
     },
     "execution_count": 136,
     "metadata": {},
     "output_type": "execute_result"
    },
    {
     "data": {
      "image/png": "[encoded data removed]",
      "text/plain": [
       "<Figure size 432x288 with 1 Axes>"
      ]
     },
     "metadata": {
      "needs_background": "light"
     },
     "output_type": "display_data"
    }
   ],
   "source": [
    "X_bf_test['atmospheric_temperature(°C)'].plot.hist()"
   ]
  },
  {
   "cell_type": "code",
   "execution_count": 137,
   "id": "beneficial-lyric",
   "metadata": {},
   "outputs": [],
   "source": [
    "X_bf_test['atmospheric_temperature(°C)'] = X_bf_test['atmospheric_temperature(°C)'].replace(-99,0)\n",
    "X_bf_test['atmospheric_temperature(°C)'] = X_bf_test['atmospheric_temperature(°C)'].fillna(0)\n",
    "X_bf_test['atmospheric_temperature(°C)'] = X_bf_test['atmospheric_temperature(°C)'].replace(0,X_bf_test['atmospheric_temperature(°C)'].median())"
   ]
  },
  {
   "cell_type": "code",
   "execution_count": 138,
   "id": "capable-colors",
   "metadata": {},
   "outputs": [
    {
     "data": {
      "text/plain": [
       "<AxesSubplot:ylabel='Frequency'>"
      ]
     },
     "execution_count": 138,
     "metadata": {},
     "output_type": "execute_result"
    },
    {
     "data": {
      "image/png": "[encoded data removed]",
      "text/plain": [
       "<Figure size 432x288 with 1 Axes>"
      ]
     },
     "metadata": {
      "needs_background": "light"
     },
     "output_type": "display_data"
    }
   ],
   "source": [
    "X_bf_test['shaft_temperature(°C)'].plot.hist()"
   ]
  },
  {
   "cell_type": "code",
   "execution_count": 139,
   "id": "corrected-pavilion",
   "metadata": {},
   "outputs": [],
   "source": [
    "X_bf_test['shaft_temperature(°C)'] = X_bf_test['shaft_temperature(°C)'].replace(-99,0)\n",
    "X_bf_test['shaft_temperature(°C)'] = X_bf_test['shaft_temperature(°C)'].fillna(0)\n",
    "X_bf_test['shaft_temperature(°C)'] = X_bf_test['shaft_temperature(°C)'].replace(0,X_bf_test['shaft_temperature(°C)'].median())"
   ]
  },
  {
   "cell_type": "code",
   "execution_count": 140,
   "id": "authorized-thursday",
   "metadata": {},
   "outputs": [
    {
     "data": {
      "text/plain": [
       "<AxesSubplot:ylabel='Frequency'>"
      ]
     },
     "execution_count": 140,
     "metadata": {},
     "output_type": "execute_result"
    },
    {
     "data": {
      "image/png": "[encoded data removed]",
      "text/plain": [
       "<Figure size 432x288 with 1 Axes>"
      ]
     },
     "metadata": {
      "needs_background": "light"
     },
     "output_type": "display_data"
    }
   ],
   "source": [
    "X_bf_test['windmill_body_temperature(°C)'].plot.hist()"
   ]
  },
  {
   "cell_type": "code",
   "execution_count": 141,
   "id": "seventh-consultancy",
   "metadata": {},
   "outputs": [],
   "source": [
    "X_bf_test['windmill_body_temperature(°C)'] = X_bf_test['windmill_body_temperature(°C)'].replace(-99,0)\n",
    "X_bf_test['windmill_body_temperature(°C)'] = X_bf_test['windmill_body_temperature(°C)'].fillna(0)\n",
    "X_bf_test['windmill_body_temperature(°C)'] = X_bf_test['windmill_body_temperature(°C)'].replace(0,X_bf_test['windmill_body_temperature(°C)'].mean())"
   ]
  },
  {
   "cell_type": "code",
   "execution_count": 142,
   "id": "final-reception",
   "metadata": {},
   "outputs": [],
   "source": [
    "X_bf_test['turbine_status'] = LabelEncoder().fit_transform(X_bf_test['turbine_status'])\n",
    "X_bf_test['cloud_level'] = LabelEncoder().fit_transform(X_bf_test['cloud_level'])"
   ]
  },
  {
   "cell_type": "code",
   "execution_count": 143,
   "id": "applied-booking",
   "metadata": {},
   "outputs": [],
   "source": [
    "X_bf_test['turbine_status'] = X_bf_test['turbine_status'].fillna(X_bf_test['turbine_status'].mode())\n",
    "X_bf_test['cloud_level'] = X_bf_test['cloud_level'].fillna(X_bf_test['cloud_level'].mode())"
   ]
  },
  {
   "cell_type": "code",
   "execution_count": 144,
   "id": "compound-railway",
   "metadata": {},
   "outputs": [
    {
     "data": {
      "text/plain": [
       "<AxesSubplot:ylabel='Frequency'>"
      ]
     },
     "execution_count": 144,
     "metadata": {},
     "output_type": "execute_result"
    },
    {
     "data": {
      "image/png": "[encoded data removed]",
      "text/plain": [
       "<Figure size 432x288 with 1 Axes>"
      ]
     },
     "metadata": {
      "needs_background": "light"
     },
     "output_type": "display_data"
    }
   ],
   "source": [
    "X_bf_test['blade_length(m)'].plot.hist()"
   ]
  },
  {
   "cell_type": "code",
   "execution_count": 145,
   "id": "documented-recording",
   "metadata": {},
   "outputs": [],
   "source": [
    "X_bf_test['blade_length(m)'] = X_bf_test['blade_length(m)'].replace(-99,0)\n",
    "X_bf_test['blade_length(m)'] = X_bf_test['blade_length(m)'].fillna(0)\n",
    "X_bf_test['blade_length(m)'] = X_bf_test['blade_length(m)'].replace(0,X_bf_test['wind_speed(m/s)'].median())"
   ]
  },
  {
   "cell_type": "code",
   "execution_count": 146,
   "id": "applicable-bikini",
   "metadata": {},
   "outputs": [
    {
     "data": {
      "text/plain": [
       "<AxesSubplot:ylabel='Frequency'>"
      ]
     },
     "execution_count": 146,
     "metadata": {},
     "output_type": "execute_result"
    },
    {
     "data": {
      "image/png": "[encoded data removed]",
      "text/plain": [
       "<Figure size 432x288 with 1 Axes>"
      ]
     },
     "metadata": {
      "needs_background": "light"
     },
     "output_type": "display_data"
    }
   ],
   "source": [
    "X_bf_test['windmill_height(m)'].plot.hist()"
   ]
  },
  {
   "cell_type": "code",
   "execution_count": 147,
   "id": "juvenile-relationship",
   "metadata": {},
   "outputs": [],
   "source": [
    "X_bf_test['windmill_height(m)'] = X_bf_test['windmill_height(m)'].fillna(X_bf_test['windmill_height(m)'].mean())"
   ]
  },
  {
   "cell_type": "code",
   "execution_count": 148,
   "id": "civilian-accused",
   "metadata": {},
   "outputs": [
    {
     "data": {
      "text/plain": [
       "<AxesSubplot:ylabel='Frequency'>"
      ]
     },
     "execution_count": 148,
     "metadata": {},
     "output_type": "execute_result"
    },
    {
     "data": {
      "image/png": "[encoded data removed]",
      "text/plain": [
       "<Figure size 432x288 with 1 Axes>"
      ]
     },
     "metadata": {
      "needs_background": "light"
     },
     "output_type": "display_data"
    }
   ],
   "source": [
    "X_bf_test['blades_angle(°)'].plot.hist()"
   ]
  },
  {
   "cell_type": "code",
   "execution_count": 149,
   "id": "romance-coupon",
   "metadata": {},
   "outputs": [],
   "source": [
    "X_bf_test['blades_angle(°)'] = X_bf_test['blades_angle(°)'].replace(-99,0)\n",
    "X_bf_test['blades_angle(°)'] = X_bf_test['blades_angle(°)'].fillna(0)\n",
    "X_bf_test['blades_angle(°)'] = X_bf_test['blades_angle(°)'].replace(0,X_bf_test['blades_angle(°)'].median())"
   ]
  },
  {
   "cell_type": "code",
   "execution_count": 150,
   "id": "sapphire-anthony",
   "metadata": {},
   "outputs": [
    {
     "data": {
      "text/plain": [
       "<AxesSubplot:ylabel='Frequency'>"
      ]
     },
     "execution_count": 150,
     "metadata": {},
     "output_type": "execute_result"
    },
    {
     "data": {
      "image/png": "[encoded data removed]",
      "text/plain": [
       "<Figure size 432x288 with 1 Axes>"
      ]
     },
     "metadata": {
      "needs_background": "light"
     },
     "output_type": "display_data"
    }
   ],
   "source": [
    "X_bf_test['resistance(ohm)'].plot.hist()"
   ]
  },
  {
   "cell_type": "code",
   "execution_count": 151,
   "id": "usual-dodge",
   "metadata": {},
   "outputs": [],
   "source": [
    "X_bf_test['resistance(ohm)'] = X_bf_test['resistance(ohm)'].replace(-99,0)\n",
    "X_bf_test['resistance(ohm)'] = X_bf_test['resistance(ohm)'].replace(0,X_bf_test['resistance(ohm)'].mean())"
   ]
  },
  {
   "cell_type": "code",
   "execution_count": 152,
   "id": "illegal-average",
   "metadata": {},
   "outputs": [
    {
     "data": {
      "text/plain": [
       "<AxesSubplot:ylabel='Frequency'>"
      ]
     },
     "execution_count": 152,
     "metadata": {},
     "output_type": "execute_result"
    },
    {
     "data": {
      "image/png": "[encoded data removed]",
      "text/plain": [
       "<Figure size 432x288 with 1 Axes>"
      ]
     },
     "metadata": {
      "needs_background": "light"
     },
     "output_type": "display_data"
    }
   ],
   "source": [
    "X_bf_test['atmospheric_pressure(Pascal)'].plot.hist()"
   ]
  },
  {
   "cell_type": "code",
   "execution_count": 153,
   "id": "worst-spectrum",
   "metadata": {},
   "outputs": [],
   "source": [
    "X_bf_test['atmospheric_pressure(Pascal)'] = X_bf_test['atmospheric_pressure(Pascal)'].fillna(X_bf_test['atmospheric_pressure(Pascal)'].median())"
   ]
  },
  {
   "cell_type": "code",
   "execution_count": 154,
   "id": "sapphire-appreciation",
   "metadata": {},
   "outputs": [
    {
     "data": {
      "text/plain": [
       "<AxesSubplot:ylabel='Frequency'>"
      ]
     },
     "execution_count": 154,
     "metadata": {},
     "output_type": "execute_result"
    },
    {
     "data": {
      "image/png": "[encoded data removed]",
      "text/plain": [
       "<Figure size 432x288 with 1 Axes>"
      ]
     },
     "metadata": {
      "needs_background": "light"
     },
     "output_type": "display_data"
    }
   ],
   "source": [
    "X_bf_test['wind_speed(m/s)'].plot.hist()"
   ]
  },
  {
   "cell_type": "code",
   "execution_count": 155,
   "id": "aggressive-detection",
   "metadata": {},
   "outputs": [],
   "source": [
    "X_bf_test['wind_speed(m/s)'] = X_bf_test['wind_speed(m/s)'].replace(-99,0)\n",
    "X_bf_test['wind_speed(m/s)'] = X_bf_test['wind_speed(m/s)'].fillna(0)\n",
    "X_bf_test['wind_speed(m/s)'] = X_bf_test['wind_speed(m/s)'].replace(0,X_bf_test['wind_speed(m/s)'].median())"
   ]
  },
  {
   "cell_type": "code",
   "execution_count": 156,
   "id": "frozen-cotton",
   "metadata": {},
   "outputs": [
    {
     "data": {
      "text/plain": [
       "<AxesSubplot:ylabel='Frequency'>"
      ]
     },
     "execution_count": 156,
     "metadata": {},
     "output_type": "execute_result"
    },
    {
     "data": {
      "image/png": "[encoded data removed]",
      "text/plain": [
       "<Figure size 432x288 with 1 Axes>"
      ]
     },
     "metadata": {
      "needs_background": "light"
     },
     "output_type": "display_data"
    }
   ],
   "source": [
    "X_bf_test['motor_torque(N-m)'].plot.hist()"
   ]
  },
  {
   "cell_type": "code",
   "execution_count": 157,
   "id": "collaborative-california",
   "metadata": {},
   "outputs": [],
   "source": [
    "X_bf_test['motor_torque(N-m)'] = X_bf_test['motor_torque(N-m)'].fillna(X_bf_test['motor_torque(N-m)'].median())"
   ]
  },
  {
   "cell_type": "code",
   "execution_count": 158,
   "id": "dominant-campaign",
   "metadata": {},
   "outputs": [
    {
     "data": {
      "text/plain": [
       "<AxesSubplot:ylabel='Frequency'>"
      ]
     },
     "execution_count": 158,
     "metadata": {},
     "output_type": "execute_result"
    },
    {
     "data": {
      "image/png": "[encoded data removed]",
      "text/plain": [
       "<Figure size 432x288 with 1 Axes>"
      ]
     },
     "metadata": {
      "needs_background": "light"
     },
     "output_type": "display_data"
    }
   ],
   "source": [
    "X_bf_test['generator_temperature(°C)'].plot.hist()"
   ]
  },
  {
   "cell_type": "code",
   "execution_count": 159,
   "id": "immediate-customs",
   "metadata": {},
   "outputs": [],
   "source": [
    "X_bf_test['generator_temperature(°C)'] = X_bf_test['generator_temperature(°C)'].fillna(X_bf_test['generator_temperature(°C)'].median())"
   ]
  },
  {
   "cell_type": "code",
   "execution_count": 160,
   "id": "determined-subscription",
   "metadata": {},
   "outputs": [
    {
     "data": {
      "text/plain": [
       "<AxesSubplot:ylabel='Frequency'>"
      ]
     },
     "execution_count": 160,
     "metadata": {},
     "output_type": "execute_result"
    },
    {
     "data": {
      "image/png": "[encoded data removed]",
      "text/plain": [
       "<Figure size 432x288 with 1 Axes>"
      ]
     },
     "metadata": {
      "needs_background": "light"
     },
     "output_type": "display_data"
    }
   ],
   "source": [
    "X_bf_test['engine_temperature(°C)'].plot.hist()"
   ]
  },
  {
   "cell_type": "code",
   "execution_count": 161,
   "id": "distant-clarity",
   "metadata": {},
   "outputs": [],
   "source": [
    "X_bf_test['engine_temperature(°C)'] = X_bf_test['engine_temperature(°C)'].fillna(X_bf_test['engine_temperature(°C)'].median())"
   ]
  },
  {
   "cell_type": "code",
   "execution_count": 162,
   "id": "brown-dover",
   "metadata": {},
   "outputs": [
    {
     "data": {
      "text/plain": [
       "<AxesSubplot:ylabel='Frequency'>"
      ]
     },
     "execution_count": 162,
     "metadata": {},
     "output_type": "execute_result"
    },
    {
     "data": {
      "image/png": "[encoded data removed]",
      "text/plain": [
       "<Figure size 432x288 with 1 Axes>"
      ]
     },
     "metadata": {
      "needs_background": "light"
     },
     "output_type": "display_data"
    }
   ],
   "source": [
    "X_bf_test['area_temperature(°C)'].plot.hist()"
   ]
  },
  {
   "cell_type": "code",
   "execution_count": 163,
   "id": "beginning-adelaide",
   "metadata": {},
   "outputs": [],
   "source": [
    "X_bf_test['area_temperature(°C)'] = X_bf_test['area_temperature(°C)'].fillna(X_bf_test['area_temperature(°C)'].median())"
   ]
  },
  {
   "cell_type": "code",
   "execution_count": 164,
   "id": "handy-release",
   "metadata": {},
   "outputs": [
    {
     "data": {
      "text/plain": [
       "<AxesSubplot:ylabel='Frequency'>"
      ]
     },
     "execution_count": 164,
     "metadata": {},
     "output_type": "execute_result"
    },
    {
     "data": {
      "image/png": "[encoded data removed]",
      "text/plain": [
       "<Figure size 432x288 with 1 Axes>"
      ]
     },
     "metadata": {
      "needs_background": "light"
     },
     "output_type": "display_data"
    }
   ],
   "source": [
    "X_bf_test['gearbox_temperature(°C)'].plot.hist()"
   ]
  },
  {
   "cell_type": "code",
   "execution_count": 165,
   "id": "herbal-budget",
   "metadata": {},
   "outputs": [],
   "source": [
    "X_bf_test['gearbox_temperature(°C)'] = X_bf_test['gearbox_temperature(°C)'].replace(-99,0)\n",
    "X_bf_test['gearbox_temperature(°C)'] = X_bf_test['gearbox_temperature(°C)'].fillna(0)\n",
    "X_bf_test['gearbox_temperature(°C)'] = X_bf_test['gearbox_temperature(°C)'].replace(0,X_bf_test['gearbox_temperature(°C)'].median())"
   ]
  },
  {
   "cell_type": "code",
   "execution_count": 166,
   "id": "adaptive-spray",
   "metadata": {},
   "outputs": [
    {
     "data": {
      "text/plain": [
       "<AxesSubplot:ylabel='Frequency'>"
      ]
     },
     "execution_count": 166,
     "metadata": {},
     "output_type": "execute_result"
    },
    {
     "data": {
      "image/png": "[encoded data removed]",
      "text/plain": [
       "<Figure size 432x288 with 1 Axes>"
      ]
     },
     "metadata": {
      "needs_background": "light"
     },
     "output_type": "display_data"
    }
   ],
   "source": [
    "X_bf_test['wind_direction(°)'].plot.hist()"
   ]
  },
  {
   "cell_type": "code",
   "execution_count": 167,
   "id": "center-amber",
   "metadata": {},
   "outputs": [],
   "source": [
    "X_bf_test['wind_direction(°)'] = X_bf_test['wind_direction(°)'].fillna(X_bf_test['wind_direction(°)'].mean())"
   ]
  },
  {
   "cell_type": "code",
   "execution_count": 168,
   "id": "owned-combination",
   "metadata": {},
   "outputs": [
    {
     "data": {
      "text/plain": [
       "<AxesSubplot:ylabel='Frequency'>"
      ]
     },
     "execution_count": 168,
     "metadata": {},
     "output_type": "execute_result"
    },
    {
     "data": {
      "image/png": "[encoded data removed]",
      "text/plain": [
       "<Figure size 432x288 with 1 Axes>"
      ]
     },
     "metadata": {
      "needs_background": "light"
     },
     "output_type": "display_data"
    }
   ],
   "source": [
    "X_bf_test['rotor_torque(N-m)'].plot.hist()"
   ]
  },
  {
   "cell_type": "code",
   "execution_count": 169,
   "id": "several-shirt",
   "metadata": {},
   "outputs": [],
   "source": [
    "X_bf_test['rotor_torque(N-m)'] = X_bf_test['rotor_torque(N-m)'].replace(-99,0)\n",
    "X_bf_test['rotor_torque(N-m)'] = X_bf_test['rotor_torque(N-m)'].fillna(0)\n",
    "X_bf_test['rotor_torque(N-m)'] = X_bf_test['rotor_torque(N-m)'].replace(0,X_bf_test['rotor_torque(N-m)'].mean())"
   ]
  },
  {
   "cell_type": "code",
   "execution_count": 170,
   "id": "fatal-membrane",
   "metadata": {},
   "outputs": [
    {
     "data": {
      "text/plain": [
       "datetime                         False\n",
       "wind_speed(m/s)                  False\n",
       "blades_angle(°)                  False\n",
       "gearbox_temperature(°C)          False\n",
       "engine_temperature(°C)           False\n",
       "motor_torque(N-m)                False\n",
       "generator_temperature(°C)        False\n",
       "area_temperature(°C)             False\n",
       "atmospheric_pressure(Pascal)     False\n",
       "resistance(ohm)                  False\n",
       "atmospheric_temperature(°C)      False\n",
       "shaft_temperature(°C)            False\n",
       "windmill_body_temperature(°C)    False\n",
       "wind_direction(°)                False\n",
       "rotor_torque(N-m)                False\n",
       "turbine_status                   False\n",
       "cloud_level                      False\n",
       "blade_length(m)                  False\n",
       "blade_breadth(m)                 False\n",
       "windmill_height(m)               False\n",
       "dtype: bool"
      ]
     },
     "execution_count": 170,
     "metadata": {},
     "output_type": "execute_result"
    }
   ],
   "source": [
    "X_bf_test.isnull().any()"
   ]
  },
  {
   "cell_type": "code",
   "execution_count": 171,
   "id": "tested-korea",
   "metadata": {},
   "outputs": [],
   "source": [
    "X_bf_test['resistance_gen']=X_bf_test['resistance(ohm)']*(1+(X_bf_test['generator_temperature(°C)'].mul(0.0015)))\n",
    "X_bf_test['resistance_eng']=X_bf_test['resistance(ohm)']*(1+(X_bf_test['engine_temperature(°C)'].mul(0.0015)))\n",
    "X_bf_test['motor_torque(N-m)_ln']=np.log(X_bf_test['motor_torque(N-m)'])"
   ]
  },
  {
   "cell_type": "code",
   "execution_count": 172,
   "id": "015ffe6d",
   "metadata": {},
   "outputs": [],
   "source": [
    "X_bf_test.datetime = pd.to_datetime(X_bf_test.datetime, format=\"%Y-%m-%d\")\n",
    "X_bf_test[\"month\"] = X_bf_test.datetime.dt.month\n",
    "X_bf_test[\"week\"] = X_bf_test.datetime.dt.week\n",
    "X_bf_test[\"day\"] = X_bf_test.datetime.dt.day\n",
    "X_bf_test[\"day_of_week\"] = X_bf_test.datetime.dt.dayofweek"
   ]
  },
  {
   "cell_type": "code",
   "execution_count": 173,
   "id": "50981891",
   "metadata": {},
   "outputs": [
    {
     "data": {
      "text/plain": [
       "Index(['datetime', 'wind_speed(m/s)', 'blades_angle(°)',\n",
       "       'gearbox_temperature(°C)', 'engine_temperature(°C)',\n",
       "       'motor_torque(N-m)', 'generator_temperature(°C)',\n",
       "       'area_temperature(°C)', 'atmospheric_pressure(Pascal)',\n",
       "       'resistance(ohm)', 'atmospheric_temperature(°C)',\n",
       "       'shaft_temperature(°C)', 'windmill_body_temperature(°C)',\n",
       "       'wind_direction(°)', 'rotor_torque(N-m)', 'turbine_status',\n",
       "       'cloud_level', 'blade_length(m)', 'blade_breadth(m)',\n",
       "       'windmill_height(m)', 'resistance_gen', 'resistance_eng',\n",
       "       'motor_torque(N-m)_ln', 'month', 'week', 'day', 'day_of_week'],\n",
       "      dtype='object')"
      ]
     },
     "execution_count": 173,
     "metadata": {},
     "output_type": "execute_result"
    }
   ],
   "source": [
    "X_bf_test.columns"
   ]
  },
  {
   "cell_type": "code",
   "execution_count": 178,
   "id": "touched-married",
   "metadata": {},
   "outputs": [],
   "source": [
    "# X_scaling = ['wind_speed(m/s)',\n",
    "#        'blades_angle(°)', 'gearbox_temperature(°C)', 'engine_temperature(°C)',\n",
    "#        'motor_torque(N-m)', 'generator_temperature(°C)', 'area_temperature(°C)','atmospheric_pressure(Pascal)',\n",
    "#        'wind_direction(°)', 'resistance(ohm)', 'rotor_torque(N-m)']\n",
    "# X_bf_test[X_scaling]=StandardScaler().fit_transform(X_bf_test[X_scaling])\n",
    "# X_bf_test = X_bf_test[['motor_torque(N-m)','blades_angle(°)','generator_temperature(°C)','resistance(ohm)',\n",
    "#         'atmospheric_pressure(Pascal)','engine_temperature(°C)','blade_breadth(m)',\n",
    "#         'area_temperature(°C)','wind_direction(°)','resistance_gen','resistance_eng','motor_torque(N-m)_ln',\n",
    "#                       'wind_speed(m/s)']]\n",
    "\n",
    "X_bf_test = X_bf_test[['wind_speed(m/s)',\n",
    "       'atmospheric_temperature(°C)', 'shaft_temperature(°C)',\n",
    "       'blades_angle(°)', 'gearbox_temperature(°C)', 'engine_temperature(°C)',\n",
    "       'motor_torque(N-m)', 'generator_temperature(°C)',\n",
    "       'atmospheric_pressure(Pascal)', 'area_temperature(°C)',\n",
    "       'windmill_body_temperature(°C)', 'wind_direction(°)', 'resistance(ohm)',\n",
    "       'rotor_torque(N-m)', 'turbine_status', 'cloud_level', 'blade_length(m)',\n",
    "       'blade_breadth(m)', 'windmill_height(m)', 'resistance_gen', 'resistance_eng',\n",
    "       'motor_torque(N-m)_ln', 'month', 'week', 'day', 'day_of_week']]"
   ]
  },
  {
   "cell_type": "code",
   "execution_count": 179,
   "id": "swiss-comfort",
   "metadata": {},
   "outputs": [
    {
     "data": {
      "text/html": [
       "<div>\n",
       "<style scoped>\n",
       "    .dataframe tbody tr th:only-of-type {\n",
       "        vertical-align: middle;\n",
       "    }\n",
       "\n",
       "    .dataframe tbody tr th {\n",
       "        vertical-align: top;\n",
       "    }\n",
       "\n",
       "    .dataframe thead th {\n",
       "        text-align: right;\n",
       "    }\n",
       "</style>\n",
       "<table border=\"1\" class=\"dataframe\">\n",
       "  <thead>\n",
       "    <tr style=\"text-align: right;\">\n",
       "      <th></th>\n",
       "      <th>wind_speed(m/s)</th>\n",
       "      <th>atmospheric_temperature(°C)</th>\n",
       "      <th>shaft_temperature(°C)</th>\n",
       "      <th>blades_angle(°)</th>\n",
       "      <th>gearbox_temperature(°C)</th>\n",
       "      <th>engine_temperature(°C)</th>\n",
       "      <th>motor_torque(N-m)</th>\n",
       "      <th>generator_temperature(°C)</th>\n",
       "      <th>atmospheric_pressure(Pascal)</th>\n",
       "      <th>area_temperature(°C)</th>\n",
       "      <th>...</th>\n",
       "      <th>blade_length(m)</th>\n",
       "      <th>blade_breadth(m)</th>\n",
       "      <th>windmill_height(m)</th>\n",
       "      <th>resistance_gen</th>\n",
       "      <th>resistance_eng</th>\n",
       "      <th>motor_torque(N-m)_ln</th>\n",
       "      <th>month</th>\n",
       "      <th>week</th>\n",
       "      <th>day</th>\n",
       "      <th>day_of_week</th>\n",
       "    </tr>\n",
       "  </thead>\n",
       "  <tbody>\n",
       "    <tr>\n",
       "      <th>0</th>\n",
       "      <td>94.324266</td>\n",
       "      <td>17.641186</td>\n",
       "      <td>89.714193</td>\n",
       "      <td>51.146788</td>\n",
       "      <td>40.460560</td>\n",
       "      <td>39.594734</td>\n",
       "      <td>1073.202715</td>\n",
       "      <td>66.830037</td>\n",
       "      <td>16681.044117</td>\n",
       "      <td>24.004812</td>\n",
       "      <td>...</td>\n",
       "      <td>3.185837</td>\n",
       "      <td>0.403965</td>\n",
       "      <td>25.572431</td>\n",
       "      <td>1831.052051</td>\n",
       "      <td>1763.063664</td>\n",
       "      <td>6.978403</td>\n",
       "      <td>4</td>\n",
       "      <td>16</td>\n",
       "      <td>17</td>\n",
       "      <td>2</td>\n",
       "    </tr>\n",
       "    <tr>\n",
       "      <th>1</th>\n",
       "      <td>10.088870</td>\n",
       "      <td>13.978119</td>\n",
       "      <td>43.272846</td>\n",
       "      <td>46.516394</td>\n",
       "      <td>40.027788</td>\n",
       "      <td>41.176860</td>\n",
       "      <td>517.436430</td>\n",
       "      <td>37.284163</td>\n",
       "      <td>18201.424052</td>\n",
       "      <td>29.431813</td>\n",
       "      <td>...</td>\n",
       "      <td>3.016603</td>\n",
       "      <td>0.444755</td>\n",
       "      <td>24.371823</td>\n",
       "      <td>1230.272331</td>\n",
       "      <td>1237.075473</td>\n",
       "      <td>6.248887</td>\n",
       "      <td>3</td>\n",
       "      <td>13</td>\n",
       "      <td>30</td>\n",
       "      <td>5</td>\n",
       "    </tr>\n",
       "    <tr>\n",
       "      <th>2</th>\n",
       "      <td>347.152090</td>\n",
       "      <td>31.423035</td>\n",
       "      <td>41.076640</td>\n",
       "      <td>26.931602</td>\n",
       "      <td>43.109122</td>\n",
       "      <td>43.439556</td>\n",
       "      <td>1480.716492</td>\n",
       "      <td>70.010762</td>\n",
       "      <td>214812.836175</td>\n",
       "      <td>29.924235</td>\n",
       "      <td>...</td>\n",
       "      <td>2.611941</td>\n",
       "      <td>0.387368</td>\n",
       "      <td>27.654677</td>\n",
       "      <td>1842.858064</td>\n",
       "      <td>1776.388046</td>\n",
       "      <td>7.300281</td>\n",
       "      <td>8</td>\n",
       "      <td>32</td>\n",
       "      <td>10</td>\n",
       "      <td>5</td>\n",
       "    </tr>\n",
       "    <tr>\n",
       "      <th>3</th>\n",
       "      <td>24.471997</td>\n",
       "      <td>14.268344</td>\n",
       "      <td>14.375078</td>\n",
       "      <td>66.513953</td>\n",
       "      <td>13.741253</td>\n",
       "      <td>15.577472</td>\n",
       "      <td>887.979475</td>\n",
       "      <td>41.445258</td>\n",
       "      <td>18201.424052</td>\n",
       "      <td>23.886434</td>\n",
       "      <td>...</td>\n",
       "      <td>2.866805</td>\n",
       "      <td>0.450478</td>\n",
       "      <td>24.189426</td>\n",
       "      <td>1412.412160</td>\n",
       "      <td>1360.815833</td>\n",
       "      <td>6.788949</td>\n",
       "      <td>6</td>\n",
       "      <td>26</td>\n",
       "      <td>26</td>\n",
       "      <td>2</td>\n",
       "    </tr>\n",
       "    <tr>\n",
       "      <th>4</th>\n",
       "      <td>96.997026</td>\n",
       "      <td>33.281836</td>\n",
       "      <td>41.405192</td>\n",
       "      <td>1.843112</td>\n",
       "      <td>121.572907</td>\n",
       "      <td>43.934587</td>\n",
       "      <td>2053.916354</td>\n",
       "      <td>68.007787</td>\n",
       "      <td>16833.546517</td>\n",
       "      <td>35.906889</td>\n",
       "      <td>...</td>\n",
       "      <td>3.549672</td>\n",
       "      <td>0.368355</td>\n",
       "      <td>4.885440</td>\n",
       "      <td>761.940790</td>\n",
       "      <td>736.974149</td>\n",
       "      <td>7.627504</td>\n",
       "      <td>8</td>\n",
       "      <td>35</td>\n",
       "      <td>27</td>\n",
       "      <td>1</td>\n",
       "    </tr>\n",
       "    <tr>\n",
       "      <th>...</th>\n",
       "      <td>...</td>\n",
       "      <td>...</td>\n",
       "      <td>...</td>\n",
       "      <td>...</td>\n",
       "      <td>...</td>\n",
       "      <td>...</td>\n",
       "      <td>...</td>\n",
       "      <td>...</td>\n",
       "      <td>...</td>\n",
       "      <td>...</td>\n",
       "      <td>...</td>\n",
       "      <td>...</td>\n",
       "      <td>...</td>\n",
       "      <td>...</td>\n",
       "      <td>...</td>\n",
       "      <td>...</td>\n",
       "      <td>...</td>\n",
       "      <td>...</td>\n",
       "      <td>...</td>\n",
       "      <td>...</td>\n",
       "      <td>...</td>\n",
       "    </tr>\n",
       "    <tr>\n",
       "      <th>12081</th>\n",
       "      <td>-15.039400</td>\n",
       "      <td>18.517204</td>\n",
       "      <td>43.545409</td>\n",
       "      <td>-1.094038</td>\n",
       "      <td>44.550547</td>\n",
       "      <td>44.486619</td>\n",
       "      <td>2424.370244</td>\n",
       "      <td>75.850209</td>\n",
       "      <td>17239.345506</td>\n",
       "      <td>28.424722</td>\n",
       "      <td>...</td>\n",
       "      <td>3.286975</td>\n",
       "      <td>0.407771</td>\n",
       "      <td>20.888674</td>\n",
       "      <td>2002.725814</td>\n",
       "      <td>1918.131548</td>\n",
       "      <td>7.793327</td>\n",
       "      <td>2</td>\n",
       "      <td>7</td>\n",
       "      <td>12</td>\n",
       "      <td>1</td>\n",
       "    </tr>\n",
       "    <tr>\n",
       "      <th>12082</th>\n",
       "      <td>97.594116</td>\n",
       "      <td>14.268344</td>\n",
       "      <td>44.747916</td>\n",
       "      <td>1.750553</td>\n",
       "      <td>43.308176</td>\n",
       "      <td>42.848779</td>\n",
       "      <td>2085.627252</td>\n",
       "      <td>73.091866</td>\n",
       "      <td>17131.448669</td>\n",
       "      <td>50.615296</td>\n",
       "      <td>...</td>\n",
       "      <td>93.338083</td>\n",
       "      <td>0.367823</td>\n",
       "      <td>24.793606</td>\n",
       "      <td>1864.463619</td>\n",
       "      <td>1788.239915</td>\n",
       "      <td>7.642825</td>\n",
       "      <td>11</td>\n",
       "      <td>46</td>\n",
       "      <td>12</td>\n",
       "      <td>0</td>\n",
       "    </tr>\n",
       "    <tr>\n",
       "      <th>12083</th>\n",
       "      <td>16.186805</td>\n",
       "      <td>8.109976</td>\n",
       "      <td>43.252012</td>\n",
       "      <td>-0.691090</td>\n",
       "      <td>214.904165</td>\n",
       "      <td>41.177782</td>\n",
       "      <td>788.687177</td>\n",
       "      <td>39.514258</td>\n",
       "      <td>118707.643665</td>\n",
       "      <td>20.983939</td>\n",
       "      <td>...</td>\n",
       "      <td>3.728375</td>\n",
       "      <td>0.459887</td>\n",
       "      <td>5.653451</td>\n",
       "      <td>2482.047846</td>\n",
       "      <td>2487.894712</td>\n",
       "      <td>6.670370</td>\n",
       "      <td>5</td>\n",
       "      <td>22</td>\n",
       "      <td>27</td>\n",
       "      <td>0</td>\n",
       "    </tr>\n",
       "    <tr>\n",
       "      <th>12084</th>\n",
       "      <td>93.254033</td>\n",
       "      <td>14.268344</td>\n",
       "      <td>43.841789</td>\n",
       "      <td>-1.171974</td>\n",
       "      <td>41.976913</td>\n",
       "      <td>42.039796</td>\n",
       "      <td>2079.855634</td>\n",
       "      <td>71.482324</td>\n",
       "      <td>17155.269313</td>\n",
       "      <td>29.114305</td>\n",
       "      <td>...</td>\n",
       "      <td>2.247676</td>\n",
       "      <td>0.394680</td>\n",
       "      <td>24.591364</td>\n",
       "      <td>1918.689500</td>\n",
       "      <td>1842.158786</td>\n",
       "      <td>7.640054</td>\n",
       "      <td>5</td>\n",
       "      <td>20</td>\n",
       "      <td>13</td>\n",
       "      <td>0</td>\n",
       "    </tr>\n",
       "    <tr>\n",
       "      <th>12085</th>\n",
       "      <td>42.607485</td>\n",
       "      <td>13.245828</td>\n",
       "      <td>43.480982</td>\n",
       "      <td>9.258178</td>\n",
       "      <td>132.587960</td>\n",
       "      <td>46.312684</td>\n",
       "      <td>969.733090</td>\n",
       "      <td>46.777642</td>\n",
       "      <td>130018.594173</td>\n",
       "      <td>39.491015</td>\n",
       "      <td>...</td>\n",
       "      <td>93.338083</td>\n",
       "      <td>0.490893</td>\n",
       "      <td>21.665001</td>\n",
       "      <td>1694.355499</td>\n",
       "      <td>1693.251274</td>\n",
       "      <td>6.877021</td>\n",
       "      <td>2</td>\n",
       "      <td>8</td>\n",
       "      <td>20</td>\n",
       "      <td>2</td>\n",
       "    </tr>\n",
       "  </tbody>\n",
       "</table>\n",
       "<p>12086 rows × 26 columns</p>\n",
       "</div>"
      ],
      "text/plain": [
       "       wind_speed(m/s)  atmospheric_temperature(°C)  shaft_temperature(°C)  \\\n",
       "0            94.324266                    17.641186              89.714193   \n",
       "1            10.088870                    13.978119              43.272846   \n",
       "2           347.152090                    31.423035              41.076640   \n",
       "3            24.471997                    14.268344              14.375078   \n",
       "4            96.997026                    33.281836              41.405192   \n",
       "...                ...                          ...                    ...   \n",
       "12081       -15.039400                    18.517204              43.545409   \n",
       "12082        97.594116                    14.268344              44.747916   \n",
       "12083        16.186805                     8.109976              43.252012   \n",
       "12084        93.254033                    14.268344              43.841789   \n",
       "12085        42.607485                    13.245828              43.480982   \n",
       "\n",
       "       blades_angle(°)  gearbox_temperature(°C)  engine_temperature(°C)  \\\n",
       "0            51.146788                40.460560               39.594734   \n",
       "1            46.516394                40.027788               41.176860   \n",
       "2            26.931602                43.109122               43.439556   \n",
       "3            66.513953                13.741253               15.577472   \n",
       "4             1.843112               121.572907               43.934587   \n",
       "...                ...                      ...                     ...   \n",
       "12081        -1.094038                44.550547               44.486619   \n",
       "12082         1.750553                43.308176               42.848779   \n",
       "12083        -0.691090               214.904165               41.177782   \n",
       "12084        -1.171974                41.976913               42.039796   \n",
       "12085         9.258178               132.587960               46.312684   \n",
       "\n",
       "       motor_torque(N-m)  generator_temperature(°C)  \\\n",
       "0            1073.202715                  66.830037   \n",
       "1             517.436430                  37.284163   \n",
       "2            1480.716492                  70.010762   \n",
       "3             887.979475                  41.445258   \n",
       "4            2053.916354                  68.007787   \n",
       "...                  ...                        ...   \n",
       "12081        2424.370244                  75.850209   \n",
       "12082        2085.627252                  73.091866   \n",
       "12083         788.687177                  39.514258   \n",
       "12084        2079.855634                  71.482324   \n",
       "12085         969.733090                  46.777642   \n",
       "\n",
       "       atmospheric_pressure(Pascal)  area_temperature(°C)  ...  \\\n",
       "0                      16681.044117             24.004812  ...   \n",
       "1                      18201.424052             29.431813  ...   \n",
       "2                     214812.836175             29.924235  ...   \n",
       "3                      18201.424052             23.886434  ...   \n",
       "4                      16833.546517             35.906889  ...   \n",
       "...                             ...                   ...  ...   \n",
       "12081                  17239.345506             28.424722  ...   \n",
       "12082                  17131.448669             50.615296  ...   \n",
       "12083                 118707.643665             20.983939  ...   \n",
       "12084                  17155.269313             29.114305  ...   \n",
       "12085                 130018.594173             39.491015  ...   \n",
       "\n",
       "       blade_length(m)  blade_breadth(m)  windmill_height(m)  resistance_gen  \\\n",
       "0             3.185837          0.403965           25.572431     1831.052051   \n",
       "1             3.016603          0.444755           24.371823     1230.272331   \n",
       "2             2.611941          0.387368           27.654677     1842.858064   \n",
       "3             2.866805          0.450478           24.189426     1412.412160   \n",
       "4             3.549672          0.368355            4.885440      761.940790   \n",
       "...                ...               ...                 ...             ...   \n",
       "12081         3.286975          0.407771           20.888674     2002.725814   \n",
       "12082        93.338083          0.367823           24.793606     1864.463619   \n",
       "12083         3.728375          0.459887            5.653451     2482.047846   \n",
       "12084         2.247676          0.394680           24.591364     1918.689500   \n",
       "12085        93.338083          0.490893           21.665001     1694.355499   \n",
       "\n",
       "       resistance_eng  motor_torque(N-m)_ln  month  week  day  day_of_week  \n",
       "0         1763.063664              6.978403      4    16   17            2  \n",
       "1         1237.075473              6.248887      3    13   30            5  \n",
       "2         1776.388046              7.300281      8    32   10            5  \n",
       "3         1360.815833              6.788949      6    26   26            2  \n",
       "4          736.974149              7.627504      8    35   27            1  \n",
       "...               ...                   ...    ...   ...  ...          ...  \n",
       "12081     1918.131548              7.793327      2     7   12            1  \n",
       "12082     1788.239915              7.642825     11    46   12            0  \n",
       "12083     2487.894712              6.670370      5    22   27            0  \n",
       "12084     1842.158786              7.640054      5    20   13            0  \n",
       "12085     1693.251274              6.877021      2     8   20            2  \n",
       "\n",
       "[12086 rows x 26 columns]"
      ]
     },
     "execution_count": 179,
     "metadata": {},
     "output_type": "execute_result"
    }
   ],
   "source": [
    "X_bf_test"
   ]
  },
  {
   "cell_type": "code",
   "execution_count": 180,
   "id": "fifteen-bracelet",
   "metadata": {},
   "outputs": [],
   "source": [
    "# X_bf_test['tracking_id']=X_bf_test['tracking_id'].str.replace('WM_','')\n",
    "# X_bf_test['tracking_id']=pd.to_numeric(X_bf_test['tracking_id'])"
   ]
  },
  {
   "cell_type": "code",
   "execution_count": 181,
   "id": "static-rebel",
   "metadata": {},
   "outputs": [],
   "source": [
    "y_pred=stacked_1.predict(X_bf_test)"
   ]
  },
  {
   "cell_type": "code",
   "execution_count": 182,
   "id": "experienced-excess",
   "metadata": {},
   "outputs": [
    {
     "data": {
      "text/plain": [
       "(12086,)"
      ]
     },
     "execution_count": 182,
     "metadata": {},
     "output_type": "execute_result"
    }
   ],
   "source": [
    "y_pred.shape"
   ]
  },
  {
   "cell_type": "code",
   "execution_count": 183,
   "id": "civic-causing",
   "metadata": {},
   "outputs": [],
   "source": [
    "data=pd.DataFrame(y_pred)"
   ]
  },
  {
   "cell_type": "code",
   "execution_count": 184,
   "id": "referenced-reservation",
   "metadata": {},
   "outputs": [],
   "source": [
    "data.to_csv('ss.csv')"
   ]
  },
  {
   "cell_type": "code",
   "execution_count": 185,
   "id": "virgin-distributor",
   "metadata": {},
   "outputs": [],
   "source": [
    "dff=pd.read_csv('test.csv')"
   ]
  },
  {
   "cell_type": "code",
   "execution_count": 186,
   "id": "dental-organizer",
   "metadata": {},
   "outputs": [],
   "source": [
    "dff_1=pd.read_csv('ss.csv')"
   ]
  },
  {
   "cell_type": "code",
   "execution_count": 187,
   "id": "european-chapel",
   "metadata": {},
   "outputs": [
    {
     "data": {
      "text/plain": [
       "Index(['tracking_id', 'datetime', 'wind_speed(m/s)',\n",
       "       'atmospheric_temperature(°C)', 'shaft_temperature(°C)',\n",
       "       'blades_angle(°)', 'gearbox_temperature(°C)', 'engine_temperature(°C)',\n",
       "       'motor_torque(N-m)', 'generator_temperature(°C)',\n",
       "       'atmospheric_pressure(Pascal)', 'area_temperature(°C)',\n",
       "       'windmill_body_temperature(°C)', 'wind_direction(°)', 'resistance(ohm)',\n",
       "       'rotor_torque(N-m)', 'turbine_status', 'cloud_level', 'blade_length(m)',\n",
       "       'blade_breadth(m)', 'windmill_height(m)'],\n",
       "      dtype='object')"
      ]
     },
     "execution_count": 187,
     "metadata": {},
     "output_type": "execute_result"
    }
   ],
   "source": [
    "dff.columns"
   ]
  },
  {
   "cell_type": "code",
   "execution_count": 188,
   "id": "moved-cruise",
   "metadata": {},
   "outputs": [],
   "source": [
    "dff=dff[['tracking_id', 'datetime']]"
   ]
  },
  {
   "cell_type": "code",
   "execution_count": 189,
   "id": "selected-links",
   "metadata": {},
   "outputs": [
    {
     "data": {
      "text/plain": [
       "Index(['Unnamed: 0', '0'], dtype='object')"
      ]
     },
     "execution_count": 189,
     "metadata": {},
     "output_type": "execute_result"
    }
   ],
   "source": [
    "dff_1.columns"
   ]
  },
  {
   "cell_type": "code",
   "execution_count": 190,
   "id": "martial-placement",
   "metadata": {},
   "outputs": [],
   "source": [
    "dff['windmill_generated_power(kW/h)']=dff_1['0']"
   ]
  },
  {
   "cell_type": "code",
   "execution_count": 191,
   "id": "temporal-pittsburgh",
   "metadata": {},
   "outputs": [
    {
     "data": {
      "text/html": [
       "<div>\n",
       "<style scoped>\n",
       "    .dataframe tbody tr th:only-of-type {\n",
       "        vertical-align: middle;\n",
       "    }\n",
       "\n",
       "    .dataframe tbody tr th {\n",
       "        vertical-align: top;\n",
       "    }\n",
       "\n",
       "    .dataframe thead th {\n",
       "        text-align: right;\n",
       "    }\n",
       "</style>\n",
       "<table border=\"1\" class=\"dataframe\">\n",
       "  <thead>\n",
       "    <tr style=\"text-align: right;\">\n",
       "      <th></th>\n",
       "      <th>tracking_id</th>\n",
       "      <th>datetime</th>\n",
       "      <th>windmill_generated_power(kW/h)</th>\n",
       "    </tr>\n",
       "  </thead>\n",
       "  <tbody>\n",
       "    <tr>\n",
       "      <th>0</th>\n",
       "      <td>WM_19817</td>\n",
       "      <td>2019-04-17 08:53:20</td>\n",
       "      <td>2.461213</td>\n",
       "    </tr>\n",
       "    <tr>\n",
       "      <th>1</th>\n",
       "      <td>WM_18723</td>\n",
       "      <td>2019-03-30 07:43:20</td>\n",
       "      <td>2.325495</td>\n",
       "    </tr>\n",
       "    <tr>\n",
       "      <th>2</th>\n",
       "      <td>WM_34552</td>\n",
       "      <td>2019-08-10 11:33:20</td>\n",
       "      <td>3.341214</td>\n",
       "    </tr>\n",
       "    <tr>\n",
       "      <th>3</th>\n",
       "      <td>WM_28570</td>\n",
       "      <td>2019-06-26 03:53:20</td>\n",
       "      <td>7.442377</td>\n",
       "    </tr>\n",
       "    <tr>\n",
       "      <th>4</th>\n",
       "      <td>WM_36934</td>\n",
       "      <td>2019-08-27 16:43:20</td>\n",
       "      <td>3.420468</td>\n",
       "    </tr>\n",
       "    <tr>\n",
       "      <th>...</th>\n",
       "      <td>...</td>\n",
       "      <td>...</td>\n",
       "      <td>...</td>\n",
       "    </tr>\n",
       "    <tr>\n",
       "      <th>12081</th>\n",
       "      <td>WM_13376</td>\n",
       "      <td>2019-02-12 11:33:20</td>\n",
       "      <td>6.878808</td>\n",
       "    </tr>\n",
       "    <tr>\n",
       "      <th>12082</th>\n",
       "      <td>WM_1630</td>\n",
       "      <td>2018-11-12 17:33:20</td>\n",
       "      <td>3.442076</td>\n",
       "    </tr>\n",
       "    <tr>\n",
       "      <th>12083</th>\n",
       "      <td>WM_24703</td>\n",
       "      <td>2019-05-27 11:53:20</td>\n",
       "      <td>5.276644</td>\n",
       "    </tr>\n",
       "    <tr>\n",
       "      <th>12084</th>\n",
       "      <td>WM_22893</td>\n",
       "      <td>2019-05-13 21:53:20</td>\n",
       "      <td>5.392163</td>\n",
       "    </tr>\n",
       "    <tr>\n",
       "      <th>12085</th>\n",
       "      <td>WM_14513</td>\n",
       "      <td>2019-02-20 23:43:20</td>\n",
       "      <td>10.759161</td>\n",
       "    </tr>\n",
       "  </tbody>\n",
       "</table>\n",
       "<p>12086 rows × 3 columns</p>\n",
       "</div>"
      ],
      "text/plain": [
       "      tracking_id             datetime  windmill_generated_power(kW/h)\n",
       "0        WM_19817  2019-04-17 08:53:20                        2.461213\n",
       "1        WM_18723  2019-03-30 07:43:20                        2.325495\n",
       "2        WM_34552  2019-08-10 11:33:20                        3.341214\n",
       "3        WM_28570  2019-06-26 03:53:20                        7.442377\n",
       "4        WM_36934  2019-08-27 16:43:20                        3.420468\n",
       "...           ...                  ...                             ...\n",
       "12081    WM_13376  2019-02-12 11:33:20                        6.878808\n",
       "12082     WM_1630  2018-11-12 17:33:20                        3.442076\n",
       "12083    WM_24703  2019-05-27 11:53:20                        5.276644\n",
       "12084    WM_22893  2019-05-13 21:53:20                        5.392163\n",
       "12085    WM_14513  2019-02-20 23:43:20                       10.759161\n",
       "\n",
       "[12086 rows x 3 columns]"
      ]
     },
     "execution_count": 191,
     "metadata": {},
     "output_type": "execute_result"
    }
   ],
   "source": [
    "dff"
   ]
  },
  {
   "cell_type": "code",
   "execution_count": 192,
   "id": "straight-location",
   "metadata": {},
   "outputs": [],
   "source": [
    "dff.to_csv('Final.csv',index=False)"
   ]
  },
  {
   "cell_type": "code",
   "execution_count": 193,
   "id": "activated-david",
   "metadata": {},
   "outputs": [],
   "source": [
    "dfff=pd.read_csv('Final.csv')"
   ]
  },
  {
   "cell_type": "code",
   "execution_count": 194,
   "id": "polished-pickup",
   "metadata": {},
   "outputs": [
    {
     "data": {
      "text/html": [
       "<div>\n",
       "<style scoped>\n",
       "    .dataframe tbody tr th:only-of-type {\n",
       "        vertical-align: middle;\n",
       "    }\n",
       "\n",
       "    .dataframe tbody tr th {\n",
       "        vertical-align: top;\n",
       "    }\n",
       "\n",
       "    .dataframe thead th {\n",
       "        text-align: right;\n",
       "    }\n",
       "</style>\n",
       "<table border=\"1\" class=\"dataframe\">\n",
       "  <thead>\n",
       "    <tr style=\"text-align: right;\">\n",
       "      <th></th>\n",
       "      <th>tracking_id</th>\n",
       "      <th>datetime</th>\n",
       "      <th>windmill_generated_power(kW/h)</th>\n",
       "    </tr>\n",
       "  </thead>\n",
       "  <tbody>\n",
       "    <tr>\n",
       "      <th>0</th>\n",
       "      <td>WM_19817</td>\n",
       "      <td>2019-04-17 08:53:20</td>\n",
       "      <td>2.461213</td>\n",
       "    </tr>\n",
       "    <tr>\n",
       "      <th>1</th>\n",
       "      <td>WM_18723</td>\n",
       "      <td>2019-03-30 07:43:20</td>\n",
       "      <td>2.325495</td>\n",
       "    </tr>\n",
       "    <tr>\n",
       "      <th>2</th>\n",
       "      <td>WM_34552</td>\n",
       "      <td>2019-08-10 11:33:20</td>\n",
       "      <td>3.341214</td>\n",
       "    </tr>\n",
       "    <tr>\n",
       "      <th>3</th>\n",
       "      <td>WM_28570</td>\n",
       "      <td>2019-06-26 03:53:20</td>\n",
       "      <td>7.442377</td>\n",
       "    </tr>\n",
       "    <tr>\n",
       "      <th>4</th>\n",
       "      <td>WM_36934</td>\n",
       "      <td>2019-08-27 16:43:20</td>\n",
       "      <td>3.420468</td>\n",
       "    </tr>\n",
       "    <tr>\n",
       "      <th>...</th>\n",
       "      <td>...</td>\n",
       "      <td>...</td>\n",
       "      <td>...</td>\n",
       "    </tr>\n",
       "    <tr>\n",
       "      <th>12081</th>\n",
       "      <td>WM_13376</td>\n",
       "      <td>2019-02-12 11:33:20</td>\n",
       "      <td>6.878808</td>\n",
       "    </tr>\n",
       "    <tr>\n",
       "      <th>12082</th>\n",
       "      <td>WM_1630</td>\n",
       "      <td>2018-11-12 17:33:20</td>\n",
       "      <td>3.442076</td>\n",
       "    </tr>\n",
       "    <tr>\n",
       "      <th>12083</th>\n",
       "      <td>WM_24703</td>\n",
       "      <td>2019-05-27 11:53:20</td>\n",
       "      <td>5.276644</td>\n",
       "    </tr>\n",
       "    <tr>\n",
       "      <th>12084</th>\n",
       "      <td>WM_22893</td>\n",
       "      <td>2019-05-13 21:53:20</td>\n",
       "      <td>5.392163</td>\n",
       "    </tr>\n",
       "    <tr>\n",
       "      <th>12085</th>\n",
       "      <td>WM_14513</td>\n",
       "      <td>2019-02-20 23:43:20</td>\n",
       "      <td>10.759161</td>\n",
       "    </tr>\n",
       "  </tbody>\n",
       "</table>\n",
       "<p>12086 rows × 3 columns</p>\n",
       "</div>"
      ],
      "text/plain": [
       "      tracking_id             datetime  windmill_generated_power(kW/h)\n",
       "0        WM_19817  2019-04-17 08:53:20                        2.461213\n",
       "1        WM_18723  2019-03-30 07:43:20                        2.325495\n",
       "2        WM_34552  2019-08-10 11:33:20                        3.341214\n",
       "3        WM_28570  2019-06-26 03:53:20                        7.442377\n",
       "4        WM_36934  2019-08-27 16:43:20                        3.420468\n",
       "...           ...                  ...                             ...\n",
       "12081    WM_13376  2019-02-12 11:33:20                        6.878808\n",
       "12082     WM_1630  2018-11-12 17:33:20                        3.442076\n",
       "12083    WM_24703  2019-05-27 11:53:20                        5.276644\n",
       "12084    WM_22893  2019-05-13 21:53:20                        5.392163\n",
       "12085    WM_14513  2019-02-20 23:43:20                       10.759161\n",
       "\n",
       "[12086 rows x 3 columns]"
      ]
     },
     "execution_count": 194,
     "metadata": {},
     "output_type": "execute_result"
    }
   ],
   "source": [
    "dfff"
   ]
  },
  {
   "cell_type": "code",
   "execution_count": null,
   "id": "terminal-extension",
   "metadata": {},
   "outputs": [],
   "source": []
  }
 ],
 "metadata": {
  "kernelspec": {
   "display_name": "Python 3 (ipykernel)",
   "language": "python",
   "name": "python3"
  },
  "language_info": {
   "codemirror_mode": {
    "name": "ipython",
    "version": 3
   },
   "file_extension": ".py",
   "mimetype": "text/x-python",
   "name": "python",
   "nbconvert_exporter": "python",
   "pygments_lexer": "ipython3",
   "version": "3.8.10"
  }
 },
 "nbformat": 4,
 "nbformat_minor": 5
}
